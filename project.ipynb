{
 "cells": [
  {
   "cell_type": "markdown",
   "id": "54e2e0e9-9254-4953-b472-c3f92d87e046",
   "metadata": {
    "tags": []
   },
   "source": [
    "# **Students' Dropout Prediction**\n",
    "\n",
    "## Authored by: *Team Zenith*\n",
    "\n",
    "### Team Members: \n",
    "1. Raghuveer Harsha Vardhan Karrotu\n",
    "2. Adithya Guntupalli \n",
    "3. Sonicaa Kolluri\n",
    "4. Kiran Kumar Barnala\n",
    "5. Shilpi Kumari\n",
    "6. Sai Akarsh Gadikota\n",
    "\n",
    "\n",
    "Introduction\n",
    "\n",
    "\n",
    "This project aimed to contribute to the reduction of dropouts in higher education by using machine learning techniques. It essentially identifies students at risk of dropping out early in their academic path, allowing support strategies to be implemented. \n",
    "The dataset used for this project is from a higher education institution in Portugal that contains information of students at the time of enrolment like demographics, socio-economic factors along with their academic performance during the first year(2 semesters). There is also the status of the student(Droput/Enrolled/Graduate) for each instance.For this project, we customized the target variable as binary classification model (Drop-out or Not Drop-out).\n",
    "\n",
    "After necessary data cleaning and preprocessing, Classification models will be trained and evaluated using the relevant machine learning algorithms. \n",
    "\n",
    "\n",
    "Our prediction task is to determine whether the student will drop-out or not based on various attributes like \n",
    "Marital status,Application mode,Application order,Course,Daytime/evening attendance,Previous qualification,Previous qualification (grade),Nationality,Mother's qualification,Father's qualification,Mother's occupation,Father's occupation,Admission grade,Displaced,Educational special needs,Debtor,Tuition fees up to date,Gender,Scholarship holder,Age at enrollment,International,Curricular units 1st sem (credited),Curricular units 1st sem (enrolled),Curricular units 1st sem (evaluations),Curricular units 1st sem (approved),Curricular units 1st sem (grade),Curricular units 1st sem (without evaluations),Curricular units 2nd sem (credited),Curricular units 2nd sem (enrolled),Curricular units 2nd sem (evaluations),Curricular units 2nd sem (approved),Curricular units 2nd sem (grade),Curricular units 2nd sem (without evaluations),Unemployment rate, Inflation rate and GDP).\n"
   ]
  },
  {
   "cell_type": "markdown",
   "id": "53de8073-436a-4d64-b1ce-99b6f0f7dc60",
   "metadata": {},
   "source": [
    "## Step 1: Install and/or import necessary packagesm"
   ]
  },
  {
   "cell_type": "code",
   "execution_count": 1,
   "id": "0792bb0a-227d-4116-a1ce-0ba42a8ccb02",
   "metadata": {
    "id": "0792bb0a-227d-4116-a1ce-0ba42a8ccb02"
   },
   "outputs": [],
   "source": [
    "# Data Manipulation\n",
    "import pandas as pd\n",
    "import numpy as np\n",
    "# Plot Handling/Visualization\n",
    "import matplotlib.pyplot as plt\n",
    "import seaborn as sns\n",
    "# Preprocessing data\n",
    "from sklearn.preprocessing import StandardScaler,OneHotEncoder\n",
    "from sklearn.model_selection import train_test_split, cross_val_score, GridSearchCV,RandomizedSearchCV\n",
    "# MODELS\n",
    "from sklearn.tree import DecisionTreeClassifier\n",
    "from sklearn.ensemble import RandomForestClassifier, GradientBoostingClassifier, AdaBoostClassifier\n",
    "from xgboost import XGBClassifier\n",
    "from sklearn.neighbors import KNeighborsClassifier\n",
    "from sklearn.linear_model import LogisticRegression\n",
    "from sklearn.neural_network import MLPClassifier\n",
    "# Performance measures\n",
    "from sklearn.metrics import accuracy_score, precision_score, recall_score, f1_score,fbeta_score,make_scorer,confusion_matrix, classification_report,plot_roc_curve, roc_auc_score, roc_curve, auc, RocCurveDisplay, PrecisionRecallDisplay, precision_recall_curve\n"
   ]
  },
  {
   "cell_type": "markdown",
   "id": "37641204-4ea0-4927-a8ab-3506381d3550",
   "metadata": {},
   "source": [
    "## Step 2: Preliminary Business Problem Scoping\n",
    "\n",
    "We are developing a binary classifier to identify if a student is Dropout or not based on the academic performance in the first year and the available demographic information. Below are the various scenarios that are \n",
    "anticipated during the model training:\n",
    "\n",
    "True Positives(TP)- When model predicts the student as \"Drop-out\" and the actual is also \"Drop-out\".\n",
    "True Negatives(TN)- When model predicts the student as \"Not Drop-out and the actual is \"Not Drop-out\" as well.\n",
    "False Positives(FP)-When model predicts the student as \"Drop-out\" when in reality the student is \"Not Drop-out\".\n",
    "False Negatives(FN)-When model predicts the student as \"Not Drop-out\" when in reality the student is \"Drop-out\".\n",
    "\n",
    "\n",
    "The model is essentially being developed to solve the drop-out problem in the university wherein the University can intervene with programs like career-couselling,mentorship,alternate class scheduling, online classes etc., to encourage the student complete the course. \n",
    "Also, there is a cost for the university (in terms of the additional resources it will have to spend) if there are False Postives,it is relatively less in comparision with False Negatives. The revenue loss due to \"drop-outs\" far outweighs the cost of additional resources for the interventions by the university.\n",
    "\n",
    "So, our approach will be to reduce the FNs as much as possible(ideally make them zero). In other words, we aim to maximize the \"Recall Score\" in the project. However, if there is data imbalance, we will focus on maximizing the \"F2 score\" which considers both precision and recall with a higher weightage to 'Recall'. The model with high F2 score is the better performing model."
   ]
  },
  {
   "cell_type": "markdown",
   "id": "253045db-3b84-4e08-a8a3-cf5876346e3e",
   "metadata": {},
   "source": [
    "## Step 3: Load, clean and prepare data for analysis"
   ]
  },
  {
   "cell_type": "code",
   "execution_count": 2,
   "id": "6dd1a07a-4354-4de5-b1b6-86ba4a3d75a7",
   "metadata": {},
   "outputs": [],
   "source": [
    "df = pd.read_csv('~/Semester-1/Datamining/Final Project/Final Project/Student_data_Mac_2.csv')"
   ]
  },
  {
   "cell_type": "markdown",
   "id": "98661026-911f-495f-ad0b-8b8c6807a3fe",
   "metadata": {
    "tags": []
   },
   "source": [
    "### Explore the data"
   ]
  },
  {
   "cell_type": "code",
   "execution_count": 3,
   "id": "c3414bc6-8b9c-4e77-86a3-33a40c1fa9e8",
   "metadata": {
    "colab": {
     "base_uri": "https://localhost:8080/"
    },
    "id": "c3414bc6-8b9c-4e77-86a3-33a40c1fa9e8",
    "outputId": "608f6c20-77ed-444e-d61b-8b1d6003b9fc"
   },
   "outputs": [
    {
     "data": {
      "text/plain": [
       "(4424, 37)"
      ]
     },
     "execution_count": 3,
     "metadata": {},
     "output_type": "execute_result"
    }
   ],
   "source": [
    "df.shape"
   ]
  },
  {
   "cell_type": "code",
   "execution_count": 4,
   "id": "7f04c5f1-3ca4-4727-b316-8a934a28328f",
   "metadata": {},
   "outputs": [
    {
     "data": {
      "text/plain": [
       "Index(['Marital status', 'Application mode', 'Application order', 'Course',\n",
       "       'Daytime/evening attendance\\t', 'Previous qualification',\n",
       "       'Previous qualification (grade)', 'Nacionality',\n",
       "       'Mother's qualification', 'Father's qualification',\n",
       "       'Mother's occupation', 'Father's occupation', 'Admission grade',\n",
       "       'Displaced', 'Educational special needs', 'Debtor',\n",
       "       'Tuition fees up to date', 'Gender', 'Scholarship holder',\n",
       "       'Age at enrollment', 'International',\n",
       "       'Curricular units 1st sem (credited)',\n",
       "       'Curricular units 1st sem (enrolled)',\n",
       "       'Curricular units 1st sem (evaluations)',\n",
       "       'Curricular units 1st sem (approved)',\n",
       "       'Curricular units 1st sem (grade)',\n",
       "       'Curricular units 1st sem (without evaluations)',\n",
       "       'Curricular units 2nd sem (credited)',\n",
       "       'Curricular units 2nd sem (enrolled)',\n",
       "       'Curricular units 2nd sem (evaluations)',\n",
       "       'Curricular units 2nd sem (approved)',\n",
       "       'Curricular units 2nd sem (grade)',\n",
       "       'Curricular units 2nd sem (without evaluations)', 'Unemployment rate',\n",
       "       'Inflation rate', 'GDP', 'Target'],\n",
       "      dtype='object')"
      ]
     },
     "execution_count": 4,
     "metadata": {},
     "output_type": "execute_result"
    }
   ],
   "source": [
    "df.columns"
   ]
  },
  {
   "cell_type": "code",
   "execution_count": 5,
   "id": "dbed6964-4086-44e4-b27d-25eb2b6c9414",
   "metadata": {},
   "outputs": [
    {
     "name": "stdout",
     "output_type": "stream",
     "text": [
      "<class 'pandas.core.frame.DataFrame'>\n",
      "RangeIndex: 4424 entries, 0 to 4423\n",
      "Data columns (total 37 columns):\n",
      " #   Column                                          Non-Null Count  Dtype  \n",
      "---  ------                                          --------------  -----  \n",
      " 0   Marital status                                  4424 non-null   int64  \n",
      " 1   Application mode                                4424 non-null   int64  \n",
      " 2   Application order                               4424 non-null   int64  \n",
      " 3   Course                                          4424 non-null   int64  \n",
      " 4   Daytime/evening attendance\t                     4424 non-null   int64  \n",
      " 5   Previous qualification                          4424 non-null   int64  \n",
      " 6   Previous qualification (grade)                  4424 non-null   float64\n",
      " 7   Nacionality                                     4424 non-null   int64  \n",
      " 8   Mother's qualification                          4424 non-null   int64  \n",
      " 9   Father's qualification                          4424 non-null   int64  \n",
      " 10  Mother's occupation                             4424 non-null   int64  \n",
      " 11  Father's occupation                             4424 non-null   int64  \n",
      " 12  Admission grade                                 4424 non-null   float64\n",
      " 13  Displaced                                       4424 non-null   int64  \n",
      " 14  Educational special needs                       4424 non-null   int64  \n",
      " 15  Debtor                                          4424 non-null   int64  \n",
      " 16  Tuition fees up to date                         4424 non-null   int64  \n",
      " 17  Gender                                          4424 non-null   int64  \n",
      " 18  Scholarship holder                              4424 non-null   int64  \n",
      " 19  Age at enrollment                               4424 non-null   int64  \n",
      " 20  International                                   4424 non-null   int64  \n",
      " 21  Curricular units 1st sem (credited)             4424 non-null   int64  \n",
      " 22  Curricular units 1st sem (enrolled)             4424 non-null   int64  \n",
      " 23  Curricular units 1st sem (evaluations)          4424 non-null   int64  \n",
      " 24  Curricular units 1st sem (approved)             4424 non-null   int64  \n",
      " 25  Curricular units 1st sem (grade)                4424 non-null   float64\n",
      " 26  Curricular units 1st sem (without evaluations)  4424 non-null   int64  \n",
      " 27  Curricular units 2nd sem (credited)             4424 non-null   int64  \n",
      " 28  Curricular units 2nd sem (enrolled)             4424 non-null   int64  \n",
      " 29  Curricular units 2nd sem (evaluations)          4424 non-null   int64  \n",
      " 30  Curricular units 2nd sem (approved)             4424 non-null   int64  \n",
      " 31  Curricular units 2nd sem (grade)                4424 non-null   float64\n",
      " 32  Curricular units 2nd sem (without evaluations)  4424 non-null   int64  \n",
      " 33  Unemployment rate                               4424 non-null   float64\n",
      " 34  Inflation rate                                  4424 non-null   float64\n",
      " 35  GDP                                             4424 non-null   float64\n",
      " 36  Target                                          4424 non-null   object \n",
      "dtypes: float64(7), int64(29), object(1)\n",
      "memory usage: 1.2+ MB\n"
     ]
    }
   ],
   "source": [
    "df.info()"
   ]
  },
  {
   "cell_type": "markdown",
   "id": "1621c66e-f05d-45fd-a46e-90be8b6dcf9f",
   "metadata": {},
   "source": [
    "**From the above, we can see that there are no null values in the dataset**"
   ]
  },
  {
   "cell_type": "code",
   "execution_count": 6,
   "id": "3d00a361-a7a8-4276-8f62-00fbea0a4ef0",
   "metadata": {},
   "outputs": [
    {
     "data": {
      "text/plain": [
       "Marital status                                    0\n",
       "Application mode                                  0\n",
       "Application order                                 0\n",
       "Course                                            0\n",
       "Daytime/evening attendance\\t                      0\n",
       "Previous qualification                            0\n",
       "Previous qualification (grade)                    0\n",
       "Nacionality                                       0\n",
       "Mother's qualification                            0\n",
       "Father's qualification                            0\n",
       "Mother's occupation                               0\n",
       "Father's occupation                               0\n",
       "Admission grade                                   0\n",
       "Displaced                                         0\n",
       "Educational special needs                         0\n",
       "Debtor                                            0\n",
       "Tuition fees up to date                           0\n",
       "Gender                                            0\n",
       "Scholarship holder                                0\n",
       "Age at enrollment                                 0\n",
       "International                                     0\n",
       "Curricular units 1st sem (credited)               0\n",
       "Curricular units 1st sem (enrolled)               0\n",
       "Curricular units 1st sem (evaluations)            0\n",
       "Curricular units 1st sem (approved)               0\n",
       "Curricular units 1st sem (grade)                  0\n",
       "Curricular units 1st sem (without evaluations)    0\n",
       "Curricular units 2nd sem (credited)               0\n",
       "Curricular units 2nd sem (enrolled)               0\n",
       "Curricular units 2nd sem (evaluations)            0\n",
       "Curricular units 2nd sem (approved)               0\n",
       "Curricular units 2nd sem (grade)                  0\n",
       "Curricular units 2nd sem (without evaluations)    0\n",
       "Unemployment rate                                 0\n",
       "Inflation rate                                    0\n",
       "GDP                                               0\n",
       "Target                                            0\n",
       "dtype: int64"
      ]
     },
     "execution_count": 6,
     "metadata": {},
     "output_type": "execute_result"
    }
   ],
   "source": [
    "df.isna().sum()"
   ]
  },
  {
   "cell_type": "markdown",
   "id": "19602366-44f7-439a-869d-d81f11de0d0d",
   "metadata": {},
   "source": [
    "## Step 4: Clean and transform data"
   ]
  },
  {
   "cell_type": "markdown",
   "id": "e1e92f1f-8cbe-4212-840e-12c956586f49",
   "metadata": {},
   "source": [
    "**Clean the column names**"
   ]
  },
  {
   "cell_type": "code",
   "execution_count": 7,
   "id": "bfed3357-3e04-4e35-b0c8-9cdfdd463e6e",
   "metadata": {
    "id": "bfed3357-3e04-4e35-b0c8-9cdfdd463e6e"
   },
   "outputs": [],
   "source": [
    "df.columns = [s.strip().replace(' ', '_') for s in df.columns] "
   ]
  },
  {
   "cell_type": "code",
   "execution_count": 8,
   "id": "2406a136-ac56-49b8-88bf-5d34607051bd",
   "metadata": {
    "id": "2406a136-ac56-49b8-88bf-5d34607051bd"
   },
   "outputs": [],
   "source": [
    "df = df.rename(columns={'Nacionality': 'Nationality'})\n"
   ]
  },
  {
   "cell_type": "code",
   "execution_count": 9,
   "id": "14e17dba-7ce6-4a1c-b08e-a4b5213b4188",
   "metadata": {
    "colab": {
     "base_uri": "https://localhost:8080/"
    },
    "id": "14e17dba-7ce6-4a1c-b08e-a4b5213b4188",
    "outputId": "423026fa-2090-45fd-bd70-46784a5f0434"
   },
   "outputs": [
    {
     "data": {
      "text/plain": [
       "array(['Dropout', 'Graduate', 'Enrolled'], dtype=object)"
      ]
     },
     "execution_count": 9,
     "metadata": {},
     "output_type": "execute_result"
    }
   ],
   "source": [
    "df['Target'].unique()"
   ]
  },
  {
   "cell_type": "markdown",
   "id": "83376021-b1af-41bc-ad05-3ee21a91766b",
   "metadata": {
    "id": "a5PZMFHYoFJA"
   },
   "source": [
    "**Transform multi-class to binary class**"
   ]
  },
  {
   "cell_type": "code",
   "execution_count": 10,
   "id": "15d1c493-8cbd-47db-9522-6544ae7116e8",
   "metadata": {
    "id": "15d1c493-8cbd-47db-9522-6544ae7116e8"
   },
   "outputs": [],
   "source": [
    "status = []\n",
    "\n",
    "for i in df['Target']:\n",
    "    if i == 'Dropout':\n",
    "        status.append('Drop-out')\n",
    "    else:\n",
    "        status.append('Not Drop-out')\n",
    "        "
   ]
  },
  {
   "cell_type": "markdown",
   "id": "eca1ee95-d738-44f8-93a2-608d51d2ae28",
   "metadata": {},
   "source": [
    "**Create a new column with binary class values and drop the multi-class column from the dataframe**"
   ]
  },
  {
   "cell_type": "code",
   "execution_count": 11,
   "id": "5577ac31-986e-4782-9833-fe89f7b95441",
   "metadata": {
    "id": "5577ac31-986e-4782-9833-fe89f7b95441"
   },
   "outputs": [],
   "source": [
    "df['status'] = status"
   ]
  },
  {
   "cell_type": "code",
   "execution_count": 12,
   "id": "046f0bc6-72ce-4b4e-ac78-1f53ee0b0930",
   "metadata": {
    "colab": {
     "base_uri": "https://localhost:8080/"
    },
    "id": "046f0bc6-72ce-4b4e-ac78-1f53ee0b0930",
    "outputId": "79d6e7b7-9ae3-4cc9-f685-a1253c58c2f0"
   },
   "outputs": [
    {
     "data": {
      "text/plain": [
       "array(['Drop-out', 'Not Drop-out'], dtype=object)"
      ]
     },
     "execution_count": 12,
     "metadata": {},
     "output_type": "execute_result"
    }
   ],
   "source": [
    "df.status.unique()"
   ]
  },
  {
   "cell_type": "code",
   "execution_count": 13,
   "id": "73118f4d-9858-4d59-8d7b-fda6264e2c05",
   "metadata": {
    "id": "73118f4d-9858-4d59-8d7b-fda6264e2c05"
   },
   "outputs": [],
   "source": [
    "df = df.drop(columns = ['Target'])"
   ]
  },
  {
   "cell_type": "code",
   "execution_count": 14,
   "id": "7dc3b57f-2b67-457a-8681-87e0ed397f2e",
   "metadata": {
    "id": "7dc3b57f-2b67-457a-8681-87e0ed397f2e"
   },
   "outputs": [],
   "source": [
    "category_cols = ['Marital_status','Application_mode','Application_order','Course','Daytime/evening_attendance'\n",
    "                 ,'Previous_qualification','Nationality',\"Mother's_qualification\",\"Father's_qualification\"\n",
    "                 ,\"Mother's_occupation\",\"Father's_occupation\",'Displaced','Educational_special_needs'\n",
    "                 ,'Debtor','Tuition_fees_up_to_date','Gender','Scholarship_holder'\n",
    "                 ,'International']"
   ]
  },
  {
   "cell_type": "markdown",
   "id": "a07cf876-2c25-4a19-8d69-e6677ed51988",
   "metadata": {
    "id": "r6GA9q2yo7hJ"
   },
   "source": [
    "**Encode the Target variable**"
   ]
  },
  {
   "cell_type": "code",
   "execution_count": 15,
   "id": "d6404399-84b9-4ef2-84ea-d1553e931a92",
   "metadata": {
    "id": "d6404399-84b9-4ef2-84ea-d1553e931a92"
   },
   "outputs": [],
   "source": [
    "df.status = df.status.replace('Not Drop-out', 0, regex=True)\n",
    "df.status = df.status.replace('Drop-out', 1, regex=True)  "
   ]
  },
  {
   "cell_type": "markdown",
   "id": "17bf3861-52ec-406e-b006-a54128b22948",
   "metadata": {
    "id": "3vkYAmHcosz4"
   },
   "source": [
    "**Transform the datatypes to categorical**"
   ]
  },
  {
   "cell_type": "code",
   "execution_count": 16,
   "id": "6feed279",
   "metadata": {
    "id": "6feed279"
   },
   "outputs": [],
   "source": [
    "for col in category_cols:\n",
    "    df[col] = df[col].astype('category')"
   ]
  },
  {
   "cell_type": "code",
   "execution_count": 17,
   "id": "cDsxatzDqDzY",
   "metadata": {
    "id": "cDsxatzDqDzY"
   },
   "outputs": [],
   "source": [
    "df.status = df.status.astype('category')"
   ]
  },
  {
   "cell_type": "code",
   "execution_count": 18,
   "id": "bccc0426-b841-4682-af65-3ca90e1a56dd",
   "metadata": {
    "colab": {
     "base_uri": "https://localhost:8080/",
     "height": 300
    },
    "id": "bccc0426-b841-4682-af65-3ca90e1a56dd",
    "outputId": "0730b980-3618-4e2e-858e-f53255be8912"
   },
   "outputs": [
    {
     "data": {
      "text/html": [
       "<div>\n",
       "<style scoped>\n",
       "    .dataframe tbody tr th:only-of-type {\n",
       "        vertical-align: middle;\n",
       "    }\n",
       "\n",
       "    .dataframe tbody tr th {\n",
       "        vertical-align: top;\n",
       "    }\n",
       "\n",
       "    .dataframe thead th {\n",
       "        text-align: right;\n",
       "    }\n",
       "</style>\n",
       "<table border=\"1\" class=\"dataframe\">\n",
       "  <thead>\n",
       "    <tr style=\"text-align: right;\">\n",
       "      <th></th>\n",
       "      <th>Marital_status</th>\n",
       "      <th>Application_mode</th>\n",
       "      <th>Application_order</th>\n",
       "      <th>Course</th>\n",
       "      <th>Daytime/evening_attendance</th>\n",
       "      <th>Previous_qualification</th>\n",
       "      <th>Previous_qualification_(grade)</th>\n",
       "      <th>Nationality</th>\n",
       "      <th>Mother's_qualification</th>\n",
       "      <th>Father's_qualification</th>\n",
       "      <th>...</th>\n",
       "      <th>Curricular_units_2nd_sem_(credited)</th>\n",
       "      <th>Curricular_units_2nd_sem_(enrolled)</th>\n",
       "      <th>Curricular_units_2nd_sem_(evaluations)</th>\n",
       "      <th>Curricular_units_2nd_sem_(approved)</th>\n",
       "      <th>Curricular_units_2nd_sem_(grade)</th>\n",
       "      <th>Curricular_units_2nd_sem_(without_evaluations)</th>\n",
       "      <th>Unemployment_rate</th>\n",
       "      <th>Inflation_rate</th>\n",
       "      <th>GDP</th>\n",
       "      <th>status</th>\n",
       "    </tr>\n",
       "  </thead>\n",
       "  <tbody>\n",
       "    <tr>\n",
       "      <th>0</th>\n",
       "      <td>1</td>\n",
       "      <td>17</td>\n",
       "      <td>5</td>\n",
       "      <td>171</td>\n",
       "      <td>1</td>\n",
       "      <td>1</td>\n",
       "      <td>122.0</td>\n",
       "      <td>1</td>\n",
       "      <td>19</td>\n",
       "      <td>12</td>\n",
       "      <td>...</td>\n",
       "      <td>0</td>\n",
       "      <td>0</td>\n",
       "      <td>0</td>\n",
       "      <td>0</td>\n",
       "      <td>0.000000</td>\n",
       "      <td>0</td>\n",
       "      <td>10.8</td>\n",
       "      <td>1.4</td>\n",
       "      <td>1.74</td>\n",
       "      <td>1</td>\n",
       "    </tr>\n",
       "    <tr>\n",
       "      <th>1</th>\n",
       "      <td>1</td>\n",
       "      <td>15</td>\n",
       "      <td>1</td>\n",
       "      <td>9254</td>\n",
       "      <td>1</td>\n",
       "      <td>1</td>\n",
       "      <td>160.0</td>\n",
       "      <td>1</td>\n",
       "      <td>1</td>\n",
       "      <td>3</td>\n",
       "      <td>...</td>\n",
       "      <td>0</td>\n",
       "      <td>6</td>\n",
       "      <td>6</td>\n",
       "      <td>6</td>\n",
       "      <td>13.666667</td>\n",
       "      <td>0</td>\n",
       "      <td>13.9</td>\n",
       "      <td>-0.3</td>\n",
       "      <td>0.79</td>\n",
       "      <td>0</td>\n",
       "    </tr>\n",
       "    <tr>\n",
       "      <th>2</th>\n",
       "      <td>1</td>\n",
       "      <td>1</td>\n",
       "      <td>5</td>\n",
       "      <td>9070</td>\n",
       "      <td>1</td>\n",
       "      <td>1</td>\n",
       "      <td>122.0</td>\n",
       "      <td>1</td>\n",
       "      <td>37</td>\n",
       "      <td>37</td>\n",
       "      <td>...</td>\n",
       "      <td>0</td>\n",
       "      <td>6</td>\n",
       "      <td>0</td>\n",
       "      <td>0</td>\n",
       "      <td>0.000000</td>\n",
       "      <td>0</td>\n",
       "      <td>10.8</td>\n",
       "      <td>1.4</td>\n",
       "      <td>1.74</td>\n",
       "      <td>1</td>\n",
       "    </tr>\n",
       "    <tr>\n",
       "      <th>3</th>\n",
       "      <td>1</td>\n",
       "      <td>17</td>\n",
       "      <td>2</td>\n",
       "      <td>9773</td>\n",
       "      <td>1</td>\n",
       "      <td>1</td>\n",
       "      <td>122.0</td>\n",
       "      <td>1</td>\n",
       "      <td>38</td>\n",
       "      <td>37</td>\n",
       "      <td>...</td>\n",
       "      <td>0</td>\n",
       "      <td>6</td>\n",
       "      <td>10</td>\n",
       "      <td>5</td>\n",
       "      <td>12.400000</td>\n",
       "      <td>0</td>\n",
       "      <td>9.4</td>\n",
       "      <td>-0.8</td>\n",
       "      <td>-3.12</td>\n",
       "      <td>0</td>\n",
       "    </tr>\n",
       "    <tr>\n",
       "      <th>4</th>\n",
       "      <td>2</td>\n",
       "      <td>39</td>\n",
       "      <td>1</td>\n",
       "      <td>8014</td>\n",
       "      <td>0</td>\n",
       "      <td>1</td>\n",
       "      <td>100.0</td>\n",
       "      <td>1</td>\n",
       "      <td>37</td>\n",
       "      <td>38</td>\n",
       "      <td>...</td>\n",
       "      <td>0</td>\n",
       "      <td>6</td>\n",
       "      <td>6</td>\n",
       "      <td>6</td>\n",
       "      <td>13.000000</td>\n",
       "      <td>0</td>\n",
       "      <td>13.9</td>\n",
       "      <td>-0.3</td>\n",
       "      <td>0.79</td>\n",
       "      <td>0</td>\n",
       "    </tr>\n",
       "  </tbody>\n",
       "</table>\n",
       "<p>5 rows × 37 columns</p>\n",
       "</div>"
      ],
      "text/plain": [
       "  Marital_status Application_mode Application_order Course  \\\n",
       "0              1               17                 5    171   \n",
       "1              1               15                 1   9254   \n",
       "2              1                1                 5   9070   \n",
       "3              1               17                 2   9773   \n",
       "4              2               39                 1   8014   \n",
       "\n",
       "  Daytime/evening_attendance Previous_qualification  \\\n",
       "0                          1                      1   \n",
       "1                          1                      1   \n",
       "2                          1                      1   \n",
       "3                          1                      1   \n",
       "4                          0                      1   \n",
       "\n",
       "   Previous_qualification_(grade) Nationality Mother's_qualification  \\\n",
       "0                           122.0           1                     19   \n",
       "1                           160.0           1                      1   \n",
       "2                           122.0           1                     37   \n",
       "3                           122.0           1                     38   \n",
       "4                           100.0           1                     37   \n",
       "\n",
       "  Father's_qualification  ... Curricular_units_2nd_sem_(credited)  \\\n",
       "0                     12  ...                                   0   \n",
       "1                      3  ...                                   0   \n",
       "2                     37  ...                                   0   \n",
       "3                     37  ...                                   0   \n",
       "4                     38  ...                                   0   \n",
       "\n",
       "  Curricular_units_2nd_sem_(enrolled)  Curricular_units_2nd_sem_(evaluations)  \\\n",
       "0                                   0                                       0   \n",
       "1                                   6                                       6   \n",
       "2                                   6                                       0   \n",
       "3                                   6                                      10   \n",
       "4                                   6                                       6   \n",
       "\n",
       "  Curricular_units_2nd_sem_(approved) Curricular_units_2nd_sem_(grade)  \\\n",
       "0                                   0                         0.000000   \n",
       "1                                   6                        13.666667   \n",
       "2                                   0                         0.000000   \n",
       "3                                   5                        12.400000   \n",
       "4                                   6                        13.000000   \n",
       "\n",
       "  Curricular_units_2nd_sem_(without_evaluations) Unemployment_rate  \\\n",
       "0                                              0              10.8   \n",
       "1                                              0              13.9   \n",
       "2                                              0              10.8   \n",
       "3                                              0               9.4   \n",
       "4                                              0              13.9   \n",
       "\n",
       "  Inflation_rate   GDP  status  \n",
       "0            1.4  1.74       1  \n",
       "1           -0.3  0.79       0  \n",
       "2            1.4  1.74       1  \n",
       "3           -0.8 -3.12       0  \n",
       "4           -0.3  0.79       0  \n",
       "\n",
       "[5 rows x 37 columns]"
      ]
     },
     "execution_count": 18,
     "metadata": {},
     "output_type": "execute_result"
    }
   ],
   "source": [
    "df.head()"
   ]
  },
  {
   "cell_type": "markdown",
   "id": "294a62f8-bba8-4958-8c50-85786839d35c",
   "metadata": {
    "id": "CIPbrIoAnaW2"
   },
   "source": [
    "Note:\n",
    "\n",
    "There is an ambiguity on the year considered(whether it is during enrolment time/at the time of drop-out)\n",
    "for the macro-economic factors in the dataset (\"Employment rate\", \"GDP\" and \"Inflation). \n",
    "Hence, the same are dropped for the analysis.\n"
   ]
  },
  {
   "cell_type": "markdown",
   "id": "5813c124-d5fa-412e-b0c6-0c8a0324e6b2",
   "metadata": {},
   "source": [
    "# Case-1: Prediction with only the student data available at the time of enrolment \n",
    "\n",
    "(i.e, removing the attributes-student academic performance at the university and macro-economic factors from the analysis)\n"
   ]
  },
  {
   "cell_type": "markdown",
   "id": "8442bf14-504d-40db-ad0d-6a6c23d2a774",
   "metadata": {},
   "source": [
    "**Create a dataframe(df_1) with the student attributes available at the time of enrolment**"
   ]
  },
  {
   "cell_type": "code",
   "execution_count": 19,
   "id": "4ee256e3-7e57-4856-9c51-13e8b40e2305",
   "metadata": {},
   "outputs": [],
   "source": [
    "\n",
    "df_1 = df[['Marital_status', 'Application_mode', 'Application_order', 'Course',\n",
    "       'Daytime/evening_attendance', 'Previous_qualification',\n",
    "       'Previous_qualification_(grade)', 'Nationality',\n",
    "       \"Mother's_qualification\", \"Father's_qualification\",\n",
    "       \"Mother's_occupation\", \"Father's_occupation\", 'Admission_grade',\n",
    "       'Displaced', 'Educational_special_needs', 'Debtor',\n",
    "       'Gender', 'Scholarship_holder',\n",
    "       'Age_at_enrollment', 'International','status'\n",
    "        ]]\n"
   ]
  },
  {
   "cell_type": "markdown",
   "id": "99739d8f-2847-4ef2-b03b-92571f164c1e",
   "metadata": {},
   "source": [
    "**Encoding dummies for the categorical variables**"
   ]
  },
  {
   "cell_type": "code",
   "execution_count": 20,
   "id": "269c6faf-c18c-43e6-913e-4bdc8cea179d",
   "metadata": {},
   "outputs": [],
   "source": [
    "cat_cols = [col for col in df_1.columns if df_1[col].dtype in ['category']]\n",
    "\n",
    "cat_cols.remove('status')\n"
   ]
  },
  {
   "cell_type": "code",
   "execution_count": 21,
   "id": "b51fda7e-323b-4e11-a437-fa9f751fe876",
   "metadata": {},
   "outputs": [
    {
     "data": {
      "text/html": [
       "<div>\n",
       "<style scoped>\n",
       "    .dataframe tbody tr th:only-of-type {\n",
       "        vertical-align: middle;\n",
       "    }\n",
       "\n",
       "    .dataframe tbody tr th {\n",
       "        vertical-align: top;\n",
       "    }\n",
       "\n",
       "    .dataframe thead th {\n",
       "        text-align: right;\n",
       "    }\n",
       "</style>\n",
       "<table border=\"1\" class=\"dataframe\">\n",
       "  <thead>\n",
       "    <tr style=\"text-align: right;\">\n",
       "      <th></th>\n",
       "      <th>Previous_qualification_(grade)</th>\n",
       "      <th>Admission_grade</th>\n",
       "      <th>Age_at_enrollment</th>\n",
       "      <th>status</th>\n",
       "      <th>Marital_status_1</th>\n",
       "      <th>Marital_status_2</th>\n",
       "      <th>Marital_status_3</th>\n",
       "      <th>Marital_status_4</th>\n",
       "      <th>Marital_status_5</th>\n",
       "      <th>Marital_status_6</th>\n",
       "      <th>...</th>\n",
       "      <th>Educational_special_needs_0</th>\n",
       "      <th>Educational_special_needs_1</th>\n",
       "      <th>Debtor_0</th>\n",
       "      <th>Debtor_1</th>\n",
       "      <th>Gender_0</th>\n",
       "      <th>Gender_1</th>\n",
       "      <th>Scholarship_holder_0</th>\n",
       "      <th>Scholarship_holder_1</th>\n",
       "      <th>International_0</th>\n",
       "      <th>International_1</th>\n",
       "    </tr>\n",
       "  </thead>\n",
       "  <tbody>\n",
       "    <tr>\n",
       "      <th>0</th>\n",
       "      <td>122.0</td>\n",
       "      <td>127.3</td>\n",
       "      <td>20</td>\n",
       "      <td>1</td>\n",
       "      <td>1</td>\n",
       "      <td>0</td>\n",
       "      <td>0</td>\n",
       "      <td>0</td>\n",
       "      <td>0</td>\n",
       "      <td>0</td>\n",
       "      <td>...</td>\n",
       "      <td>1</td>\n",
       "      <td>0</td>\n",
       "      <td>1</td>\n",
       "      <td>0</td>\n",
       "      <td>0</td>\n",
       "      <td>1</td>\n",
       "      <td>1</td>\n",
       "      <td>0</td>\n",
       "      <td>1</td>\n",
       "      <td>0</td>\n",
       "    </tr>\n",
       "    <tr>\n",
       "      <th>1</th>\n",
       "      <td>160.0</td>\n",
       "      <td>142.5</td>\n",
       "      <td>19</td>\n",
       "      <td>0</td>\n",
       "      <td>1</td>\n",
       "      <td>0</td>\n",
       "      <td>0</td>\n",
       "      <td>0</td>\n",
       "      <td>0</td>\n",
       "      <td>0</td>\n",
       "      <td>...</td>\n",
       "      <td>1</td>\n",
       "      <td>0</td>\n",
       "      <td>1</td>\n",
       "      <td>0</td>\n",
       "      <td>0</td>\n",
       "      <td>1</td>\n",
       "      <td>1</td>\n",
       "      <td>0</td>\n",
       "      <td>1</td>\n",
       "      <td>0</td>\n",
       "    </tr>\n",
       "    <tr>\n",
       "      <th>2</th>\n",
       "      <td>122.0</td>\n",
       "      <td>124.8</td>\n",
       "      <td>19</td>\n",
       "      <td>1</td>\n",
       "      <td>1</td>\n",
       "      <td>0</td>\n",
       "      <td>0</td>\n",
       "      <td>0</td>\n",
       "      <td>0</td>\n",
       "      <td>0</td>\n",
       "      <td>...</td>\n",
       "      <td>1</td>\n",
       "      <td>0</td>\n",
       "      <td>1</td>\n",
       "      <td>0</td>\n",
       "      <td>0</td>\n",
       "      <td>1</td>\n",
       "      <td>1</td>\n",
       "      <td>0</td>\n",
       "      <td>1</td>\n",
       "      <td>0</td>\n",
       "    </tr>\n",
       "    <tr>\n",
       "      <th>3</th>\n",
       "      <td>122.0</td>\n",
       "      <td>119.6</td>\n",
       "      <td>20</td>\n",
       "      <td>0</td>\n",
       "      <td>1</td>\n",
       "      <td>0</td>\n",
       "      <td>0</td>\n",
       "      <td>0</td>\n",
       "      <td>0</td>\n",
       "      <td>0</td>\n",
       "      <td>...</td>\n",
       "      <td>1</td>\n",
       "      <td>0</td>\n",
       "      <td>1</td>\n",
       "      <td>0</td>\n",
       "      <td>1</td>\n",
       "      <td>0</td>\n",
       "      <td>1</td>\n",
       "      <td>0</td>\n",
       "      <td>1</td>\n",
       "      <td>0</td>\n",
       "    </tr>\n",
       "    <tr>\n",
       "      <th>4</th>\n",
       "      <td>100.0</td>\n",
       "      <td>141.5</td>\n",
       "      <td>45</td>\n",
       "      <td>0</td>\n",
       "      <td>0</td>\n",
       "      <td>1</td>\n",
       "      <td>0</td>\n",
       "      <td>0</td>\n",
       "      <td>0</td>\n",
       "      <td>0</td>\n",
       "      <td>...</td>\n",
       "      <td>1</td>\n",
       "      <td>0</td>\n",
       "      <td>1</td>\n",
       "      <td>0</td>\n",
       "      <td>1</td>\n",
       "      <td>0</td>\n",
       "      <td>1</td>\n",
       "      <td>0</td>\n",
       "      <td>1</td>\n",
       "      <td>0</td>\n",
       "    </tr>\n",
       "  </tbody>\n",
       "</table>\n",
       "<p>5 rows × 246 columns</p>\n",
       "</div>"
      ],
      "text/plain": [
       "   Previous_qualification_(grade)  Admission_grade  Age_at_enrollment status  \\\n",
       "0                           122.0            127.3                 20      1   \n",
       "1                           160.0            142.5                 19      0   \n",
       "2                           122.0            124.8                 19      1   \n",
       "3                           122.0            119.6                 20      0   \n",
       "4                           100.0            141.5                 45      0   \n",
       "\n",
       "   Marital_status_1  Marital_status_2  Marital_status_3  Marital_status_4  \\\n",
       "0                 1                 0                 0                 0   \n",
       "1                 1                 0                 0                 0   \n",
       "2                 1                 0                 0                 0   \n",
       "3                 1                 0                 0                 0   \n",
       "4                 0                 1                 0                 0   \n",
       "\n",
       "   Marital_status_5  Marital_status_6  ...  Educational_special_needs_0  \\\n",
       "0                 0                 0  ...                            1   \n",
       "1                 0                 0  ...                            1   \n",
       "2                 0                 0  ...                            1   \n",
       "3                 0                 0  ...                            1   \n",
       "4                 0                 0  ...                            1   \n",
       "\n",
       "   Educational_special_needs_1  Debtor_0  Debtor_1  Gender_0  Gender_1  \\\n",
       "0                            0         1         0         0         1   \n",
       "1                            0         1         0         0         1   \n",
       "2                            0         1         0         0         1   \n",
       "3                            0         1         0         1         0   \n",
       "4                            0         1         0         1         0   \n",
       "\n",
       "   Scholarship_holder_0  Scholarship_holder_1  International_0  \\\n",
       "0                     1                     0                1   \n",
       "1                     1                     0                1   \n",
       "2                     1                     0                1   \n",
       "3                     1                     0                1   \n",
       "4                     1                     0                1   \n",
       "\n",
       "   International_1  \n",
       "0                0  \n",
       "1                0  \n",
       "2                0  \n",
       "3                0  \n",
       "4                0  \n",
       "\n",
       "[5 rows x 246 columns]"
      ]
     },
     "execution_count": 21,
     "metadata": {},
     "output_type": "execute_result"
    }
   ],
   "source": [
    "\n",
    "df_1 = pd.get_dummies(df_1, columns = cat_cols)\n",
    "\n",
    "\n",
    "df_1.head()\n"
   ]
  },
  {
   "cell_type": "markdown",
   "id": "480c600d-7bd8-4794-b8b1-35e3a51b8bab",
   "metadata": {},
   "source": [
    "**Visualize the class counts to check for imbalance**"
   ]
  },
  {
   "cell_type": "code",
   "execution_count": 22,
   "id": "35ad6091-92a4-4276-a334-725ddf4c85e4",
   "metadata": {},
   "outputs": [
    {
     "name": "stderr",
     "output_type": "stream",
     "text": [
      "/Users/harsha/opt/anaconda3/lib/python3.9/site-packages/seaborn/_decorators.py:36: FutureWarning: Pass the following variable as a keyword arg: x. From version 0.12, the only valid positional argument will be `data`, and passing other arguments without an explicit keyword will result in an error or misinterpretation.\n",
      "  warnings.warn(\n"
     ]
    },
    {
     "data": {
      "text/plain": [
       "<AxesSubplot:xlabel='status', ylabel='count'>"
      ]
     },
     "execution_count": 22,
     "metadata": {},
     "output_type": "execute_result"
    },
    {
     "data": {
      "image/png": "[encoded data removed]",
      "text/plain": [
       "<Figure size 432x288 with 1 Axes>"
      ]
     },
     "metadata": {
      "needs_background": "light"
     },
     "output_type": "display_data"
    }
   ],
   "source": [
    "sns.countplot(df_1.status)"
   ]
  },
  {
   "cell_type": "markdown",
   "id": "446ec56c-c43b-4508-936c-674699b21ea2",
   "metadata": {},
   "source": [
    "**Partition the data into Training and Test sets for model evaluation**"
   ]
  },
  {
   "cell_type": "code",
   "execution_count": 23,
   "id": "05027125-a2eb-4be0-bd96-7fb7a04341d9",
   "metadata": {},
   "outputs": [],
   "source": [
    "\n",
    "train_df, test_df = train_test_split(df_1, train_size=0.7, random_state=99)\n",
    "#We've decided to utilize a training/test split of the data at 70% training and 30% testing. This percentage split ratio is inline with common practice for small to medium sized datasets, which this data represents. Moreover, we have decided not to do a three way data split, as we are only testing two models and we wish to allocate as much data as possible to training.\n",
    "\n"
   ]
  },
  {
   "cell_type": "code",
   "execution_count": 24,
   "id": "057c366e-4961-47f3-b540-2ca33ba70a09",
   "metadata": {},
   "outputs": [],
   "source": [
    "\n",
    "## Step-6: Address Data Imbalances with Oversampling technique\n",
    "\n",
    "count_0 = (train_df.status==0).sum()\n",
    "count_1 = (train_df.status==1).sum()\n",
    "\n",
    "train_df_0 = train_df.loc[train_df.status==0]\n",
    "train_df_1 = train_df.loc[train_df.status==1]\n",
    "\n",
    "train_df_1_oversampled = train_df_1.sample((count_0-count_1),replace=True)\n",
    "\n",
    "train_df = pd.concat([train_df,train_df_1_oversampled],ignore_index = True)\n"
   ]
  },
  {
   "cell_type": "code",
   "execution_count": 25,
   "id": "c16743b0-c1cc-4083-8181-eeb7d1cff8d6",
   "metadata": {},
   "outputs": [
    {
     "name": "stderr",
     "output_type": "stream",
     "text": [
      "/Users/harsha/opt/anaconda3/lib/python3.9/site-packages/seaborn/_decorators.py:36: FutureWarning: Pass the following variable as a keyword arg: x. From version 0.12, the only valid positional argument will be `data`, and passing other arguments without an explicit keyword will result in an error or misinterpretation.\n",
      "  warnings.warn(\n"
     ]
    },
    {
     "data": {
      "text/plain": [
       "<AxesSubplot:xlabel='status', ylabel='count'>"
      ]
     },
     "execution_count": 25,
     "metadata": {},
     "output_type": "execute_result"
    },
    {
     "data": {
      "image/png": "[encoded data removed]",
      "text/plain": [
       "<Figure size 432x288 with 1 Axes>"
      ]
     },
     "metadata": {
      "needs_background": "light"
     },
     "output_type": "display_data"
    }
   ],
   "source": [
    "\n",
    "sns.countplot(train_df['status'])\n",
    "\n"
   ]
  },
  {
   "cell_type": "code",
   "execution_count": 26,
   "id": "57c4e4a9-fa47-4451-8722-00a8cf637656",
   "metadata": {},
   "outputs": [],
   "source": [
    "X_train = train_df.drop(columns=['status'])\n",
    "y_train = train_df['status']\n",
    "X_test = test_df.drop(columns=['status'])\n",
    "y_test = test_df['status']"
   ]
  },
  {
   "cell_type": "markdown",
   "id": "1286ecd8-6a77-4be6-bac5-b7fc11f73243",
   "metadata": {
    "tags": []
   },
   "source": [
    "### Training the data on Decision Tree model to ascertain the performance"
   ]
  },
  {
   "cell_type": "code",
   "execution_count": 27,
   "id": "24d2449e-80cc-4abe-9ebf-967139d19a4b",
   "metadata": {},
   "outputs": [
    {
     "data": {
      "text/plain": [
       "DecisionTreeClassifier(random_state=1)"
      ]
     },
     "execution_count": 27,
     "metadata": {},
     "output_type": "execute_result"
    }
   ],
   "source": [
    "dtree=DecisionTreeClassifier(random_state=1)\n",
    "dtree.fit(X_train, y_train)"
   ]
  },
  {
   "cell_type": "code",
   "execution_count": 28,
   "id": "8c34bc81-0e98-4921-ba0e-97f09e11da13",
   "metadata": {},
   "outputs": [],
   "source": [
    "y_pred_DT = dtree.predict(X_test)"
   ]
  },
  {
   "cell_type": "code",
   "execution_count": 29,
   "id": "7a116d42-ad1d-401e-b8b7-1956d1e4a20e",
   "metadata": {},
   "outputs": [
    {
     "data": {
      "text/plain": [
       "array([[663, 252],\n",
       "       [216, 197]])"
      ]
     },
     "execution_count": 29,
     "metadata": {},
     "output_type": "execute_result"
    }
   ],
   "source": [
    "confusion_matrix(y_test,y_pred_DT)"
   ]
  },
  {
   "cell_type": "code",
   "execution_count": 30,
   "id": "35cfc461-5eaa-45bc-9be2-7c0e02e55f6e",
   "metadata": {},
   "outputs": [],
   "source": [
    "DT_scores = []\n",
    "DT_scores.append({ 'Model' : 'Decision Tree',\n",
    "                'Accuracy': accuracy_score(y_test, y_pred_DT),\n",
    "                'Precision': precision_score(y_test, y_pred_DT),\n",
    "                'Recall':recall_score(y_test, y_pred_DT),\n",
    "                'F1': f1_score(y_test,y_pred_DT),\n",
    "                'F2': fbeta_score(y_test,y_pred_DT, beta = 2, average = 'binary')\n",
    "})"
   ]
  },
  {
   "cell_type": "code",
   "execution_count": 31,
   "id": "980886b5-5e1b-4ae2-a438-04f3a436a82a",
   "metadata": {},
   "outputs": [
    {
     "data": {
      "text/plain": [
       "[{'Model': 'Decision Tree',\n",
       "  'Accuracy': 0.6475903614457831,\n",
       "  'Precision': 0.43875278396436523,\n",
       "  'Recall': 0.47699757869249393,\n",
       "  'F1': 0.45707656612529,\n",
       "  'F2': 0.4688243693479296}]"
      ]
     },
     "execution_count": 31,
     "metadata": {},
     "output_type": "execute_result"
    }
   ],
   "source": [
    "DT_scores"
   ]
  },
  {
   "cell_type": "code",
   "execution_count": 32,
   "id": "e42d5965-339c-4e09-a644-024d6603e60b",
   "metadata": {},
   "outputs": [],
   "source": [
    "### Training the data on Random Forest model to ascertain the performance"
   ]
  },
  {
   "cell_type": "code",
   "execution_count": 33,
   "id": "ec7179b5-a4f8-4be5-8673-d06030e40580",
   "metadata": {},
   "outputs": [],
   "source": [
    "rforest = RandomForestClassifier(random_state=99)\n",
    "_ = rforest.fit(X_train, y_train)"
   ]
  },
  {
   "cell_type": "code",
   "execution_count": 34,
   "id": "11813b9a-69b5-44a1-a7ab-066bed479071",
   "metadata": {},
   "outputs": [
    {
     "data": {
      "text/plain": [
       "array([[756, 159],\n",
       "       [199, 214]])"
      ]
     },
     "execution_count": 34,
     "metadata": {},
     "output_type": "execute_result"
    }
   ],
   "source": [
    "y_pred_RF = rforest.predict(X_test)\n",
    "confusion_matrix(y_test,y_pred_RF)"
   ]
  },
  {
   "cell_type": "code",
   "execution_count": 35,
   "id": "98f3cce1-b2c3-4791-bc12-894cf1b981fe",
   "metadata": {},
   "outputs": [],
   "source": [
    "RF_scores = []\n",
    "RF_scores.append({ 'Model' : 'Random Forest',\n",
    "                'Accuracy': accuracy_score(y_test, y_pred_RF),\n",
    "                'Precision': precision_score(y_test, y_pred_RF),\n",
    "                'Recall':recall_score(y_test, y_pred_RF),\n",
    "                'F1': f1_score(y_test,y_pred_RF),\n",
    "                'F2': fbeta_score(y_test,y_pred_RF, beta = 2, average = 'binary')\n",
    "})\n"
   ]
  },
  {
   "cell_type": "code",
   "execution_count": 36,
   "id": "aa8f6ad1-bf4f-4b5a-8e47-c6fc54220a7b",
   "metadata": {},
   "outputs": [
    {
     "data": {
      "text/plain": [
       "[{'Model': 'Random Forest',\n",
       "  'Accuracy': 0.7304216867469879,\n",
       "  'Precision': 0.5737265415549598,\n",
       "  'Recall': 0.5181598062953995,\n",
       "  'F1': 0.5445292620865141,\n",
       "  'F2': 0.528395061728395}]"
      ]
     },
     "execution_count": 36,
     "metadata": {},
     "output_type": "execute_result"
    }
   ],
   "source": [
    "RF_scores"
   ]
  },
  {
   "cell_type": "markdown",
   "id": "c254dac6-6aec-45ce-b7b4-dfb229739633",
   "metadata": {},
   "source": [
    "### Conclusion for Case-1\n",
    "\n",
    "Clearly from the above decision tree and Random forest model performance metrics,we can infer that the students' attributes at the time of enrolment has less predictive ability on the drop-out status."
   ]
  },
  {
   "cell_type": "markdown",
   "id": "b6af2ee4-241a-4bf4-aefd-c4b0ed0784fc",
   "metadata": {},
   "source": [
    "# Case-2 : Model Prediction excluding the macro-economic data attributes like GDP, Unemployment rate and Inflation\n"
   ]
  },
  {
   "cell_type": "markdown",
   "id": "fce9fd0d-203f-4cff-8ce0-3be5a75dfa00",
   "metadata": {},
   "source": [
    "Note:\n",
    "    \n",
    "There is ambiguity on the year considered (whether it is at the time of enrolment /at the time of student drop-out)\n",
    "for the macro-economic factors in the dataset(\"Employment rate\", \"GDP\" and \"Inflation).\n",
    "Hence, the same are being dropped for the analysis."
   ]
  },
  {
   "cell_type": "code",
   "execution_count": 37,
   "id": "fd05dbe1-bc61-4c2a-bd5c-3afe50f972ba",
   "metadata": {},
   "outputs": [],
   "source": [
    "df = df.drop(df.columns[[33,34,35]], axis=1) "
   ]
  },
  {
   "cell_type": "markdown",
   "id": "e6aa2b9d-444b-467b-934a-7e2f09e9ca26",
   "metadata": {},
   "source": [
    "**Encoding dummies for the categorical variables**"
   ]
  },
  {
   "cell_type": "code",
   "execution_count": 38,
   "id": "7dd636be-f910-4cce-b35b-383a7ddac8f4",
   "metadata": {
    "colab": {
     "base_uri": "https://localhost:8080/",
     "height": 300
    },
    "id": "7dd636be-f910-4cce-b35b-383a7ddac8f4",
    "outputId": "1f816615-ca0c-4a84-db53-2da992078a93"
   },
   "outputs": [
    {
     "data": {
      "text/html": [
       "<div>\n",
       "<style scoped>\n",
       "    .dataframe tbody tr th:only-of-type {\n",
       "        vertical-align: middle;\n",
       "    }\n",
       "\n",
       "    .dataframe tbody tr th {\n",
       "        vertical-align: top;\n",
       "    }\n",
       "\n",
       "    .dataframe thead th {\n",
       "        text-align: right;\n",
       "    }\n",
       "</style>\n",
       "<table border=\"1\" class=\"dataframe\">\n",
       "  <thead>\n",
       "    <tr style=\"text-align: right;\">\n",
       "      <th></th>\n",
       "      <th>Previous_qualification_(grade)</th>\n",
       "      <th>Admission_grade</th>\n",
       "      <th>Age_at_enrollment</th>\n",
       "      <th>Curricular_units_1st_sem_(credited)</th>\n",
       "      <th>Curricular_units_1st_sem_(enrolled)</th>\n",
       "      <th>Curricular_units_1st_sem_(evaluations)</th>\n",
       "      <th>Curricular_units_1st_sem_(approved)</th>\n",
       "      <th>Curricular_units_1st_sem_(grade)</th>\n",
       "      <th>Curricular_units_1st_sem_(without_evaluations)</th>\n",
       "      <th>Curricular_units_2nd_sem_(credited)</th>\n",
       "      <th>...</th>\n",
       "      <th>Debtor_0</th>\n",
       "      <th>Debtor_1</th>\n",
       "      <th>Tuition_fees_up_to_date_0</th>\n",
       "      <th>Tuition_fees_up_to_date_1</th>\n",
       "      <th>Gender_0</th>\n",
       "      <th>Gender_1</th>\n",
       "      <th>Scholarship_holder_0</th>\n",
       "      <th>Scholarship_holder_1</th>\n",
       "      <th>International_0</th>\n",
       "      <th>International_1</th>\n",
       "    </tr>\n",
       "  </thead>\n",
       "  <tbody>\n",
       "    <tr>\n",
       "      <th>0</th>\n",
       "      <td>122.0</td>\n",
       "      <td>127.3</td>\n",
       "      <td>20</td>\n",
       "      <td>0</td>\n",
       "      <td>0</td>\n",
       "      <td>0</td>\n",
       "      <td>0</td>\n",
       "      <td>0.000000</td>\n",
       "      <td>0</td>\n",
       "      <td>0</td>\n",
       "      <td>...</td>\n",
       "      <td>1</td>\n",
       "      <td>0</td>\n",
       "      <td>0</td>\n",
       "      <td>1</td>\n",
       "      <td>0</td>\n",
       "      <td>1</td>\n",
       "      <td>1</td>\n",
       "      <td>0</td>\n",
       "      <td>1</td>\n",
       "      <td>0</td>\n",
       "    </tr>\n",
       "    <tr>\n",
       "      <th>1</th>\n",
       "      <td>160.0</td>\n",
       "      <td>142.5</td>\n",
       "      <td>19</td>\n",
       "      <td>0</td>\n",
       "      <td>6</td>\n",
       "      <td>6</td>\n",
       "      <td>6</td>\n",
       "      <td>14.000000</td>\n",
       "      <td>0</td>\n",
       "      <td>0</td>\n",
       "      <td>...</td>\n",
       "      <td>1</td>\n",
       "      <td>0</td>\n",
       "      <td>1</td>\n",
       "      <td>0</td>\n",
       "      <td>0</td>\n",
       "      <td>1</td>\n",
       "      <td>1</td>\n",
       "      <td>0</td>\n",
       "      <td>1</td>\n",
       "      <td>0</td>\n",
       "    </tr>\n",
       "    <tr>\n",
       "      <th>2</th>\n",
       "      <td>122.0</td>\n",
       "      <td>124.8</td>\n",
       "      <td>19</td>\n",
       "      <td>0</td>\n",
       "      <td>6</td>\n",
       "      <td>0</td>\n",
       "      <td>0</td>\n",
       "      <td>0.000000</td>\n",
       "      <td>0</td>\n",
       "      <td>0</td>\n",
       "      <td>...</td>\n",
       "      <td>1</td>\n",
       "      <td>0</td>\n",
       "      <td>1</td>\n",
       "      <td>0</td>\n",
       "      <td>0</td>\n",
       "      <td>1</td>\n",
       "      <td>1</td>\n",
       "      <td>0</td>\n",
       "      <td>1</td>\n",
       "      <td>0</td>\n",
       "    </tr>\n",
       "    <tr>\n",
       "      <th>3</th>\n",
       "      <td>122.0</td>\n",
       "      <td>119.6</td>\n",
       "      <td>20</td>\n",
       "      <td>0</td>\n",
       "      <td>6</td>\n",
       "      <td>8</td>\n",
       "      <td>6</td>\n",
       "      <td>13.428571</td>\n",
       "      <td>0</td>\n",
       "      <td>0</td>\n",
       "      <td>...</td>\n",
       "      <td>1</td>\n",
       "      <td>0</td>\n",
       "      <td>0</td>\n",
       "      <td>1</td>\n",
       "      <td>1</td>\n",
       "      <td>0</td>\n",
       "      <td>1</td>\n",
       "      <td>0</td>\n",
       "      <td>1</td>\n",
       "      <td>0</td>\n",
       "    </tr>\n",
       "    <tr>\n",
       "      <th>4</th>\n",
       "      <td>100.0</td>\n",
       "      <td>141.5</td>\n",
       "      <td>45</td>\n",
       "      <td>0</td>\n",
       "      <td>6</td>\n",
       "      <td>9</td>\n",
       "      <td>5</td>\n",
       "      <td>12.333333</td>\n",
       "      <td>0</td>\n",
       "      <td>0</td>\n",
       "      <td>...</td>\n",
       "      <td>1</td>\n",
       "      <td>0</td>\n",
       "      <td>0</td>\n",
       "      <td>1</td>\n",
       "      <td>1</td>\n",
       "      <td>0</td>\n",
       "      <td>1</td>\n",
       "      <td>0</td>\n",
       "      <td>1</td>\n",
       "      <td>0</td>\n",
       "    </tr>\n",
       "  </tbody>\n",
       "</table>\n",
       "<p>5 rows × 260 columns</p>\n",
       "</div>"
      ],
      "text/plain": [
       "   Previous_qualification_(grade)  Admission_grade  Age_at_enrollment  \\\n",
       "0                           122.0            127.3                 20   \n",
       "1                           160.0            142.5                 19   \n",
       "2                           122.0            124.8                 19   \n",
       "3                           122.0            119.6                 20   \n",
       "4                           100.0            141.5                 45   \n",
       "\n",
       "   Curricular_units_1st_sem_(credited)  Curricular_units_1st_sem_(enrolled)  \\\n",
       "0                                    0                                    0   \n",
       "1                                    0                                    6   \n",
       "2                                    0                                    6   \n",
       "3                                    0                                    6   \n",
       "4                                    0                                    6   \n",
       "\n",
       "   Curricular_units_1st_sem_(evaluations)  \\\n",
       "0                                       0   \n",
       "1                                       6   \n",
       "2                                       0   \n",
       "3                                       8   \n",
       "4                                       9   \n",
       "\n",
       "   Curricular_units_1st_sem_(approved)  Curricular_units_1st_sem_(grade)  \\\n",
       "0                                    0                          0.000000   \n",
       "1                                    6                         14.000000   \n",
       "2                                    0                          0.000000   \n",
       "3                                    6                         13.428571   \n",
       "4                                    5                         12.333333   \n",
       "\n",
       "   Curricular_units_1st_sem_(without_evaluations)  \\\n",
       "0                                               0   \n",
       "1                                               0   \n",
       "2                                               0   \n",
       "3                                               0   \n",
       "4                                               0   \n",
       "\n",
       "   Curricular_units_2nd_sem_(credited)  ...  Debtor_0  Debtor_1  \\\n",
       "0                                    0  ...         1         0   \n",
       "1                                    0  ...         1         0   \n",
       "2                                    0  ...         1         0   \n",
       "3                                    0  ...         1         0   \n",
       "4                                    0  ...         1         0   \n",
       "\n",
       "   Tuition_fees_up_to_date_0  Tuition_fees_up_to_date_1  Gender_0 Gender_1  \\\n",
       "0                          0                          1         0        1   \n",
       "1                          1                          0         0        1   \n",
       "2                          1                          0         0        1   \n",
       "3                          0                          1         1        0   \n",
       "4                          0                          1         1        0   \n",
       "\n",
       "   Scholarship_holder_0  Scholarship_holder_1  International_0  \\\n",
       "0                     1                     0                1   \n",
       "1                     1                     0                1   \n",
       "2                     1                     0                1   \n",
       "3                     1                     0                1   \n",
       "4                     1                     0                1   \n",
       "\n",
       "   International_1  \n",
       "0                0  \n",
       "1                0  \n",
       "2                0  \n",
       "3                0  \n",
       "4                0  \n",
       "\n",
       "[5 rows x 260 columns]"
      ]
     },
     "execution_count": 38,
     "metadata": {},
     "output_type": "execute_result"
    }
   ],
   "source": [
    "df = pd.get_dummies(df, columns = category_cols)\n",
    "df.head()"
   ]
  },
  {
   "cell_type": "markdown",
   "id": "01d6575e-b09f-4697-b935-ffedbd66c61e",
   "metadata": {},
   "source": [
    "**Visualize the class counts to check for imbalance**"
   ]
  },
  {
   "cell_type": "code",
   "execution_count": 39,
   "id": "90696619-f4df-4eb8-b087-f69d377ee904",
   "metadata": {
    "colab": {
     "base_uri": "https://localhost:8080/",
     "height": 351
    },
    "id": "90696619-f4df-4eb8-b087-f69d377ee904",
    "outputId": "91954ff2-c892-4c4e-c202-342a6357a5dc"
   },
   "outputs": [
    {
     "name": "stderr",
     "output_type": "stream",
     "text": [
      "/Users/harsha/opt/anaconda3/lib/python3.9/site-packages/seaborn/_decorators.py:36: FutureWarning: Pass the following variable as a keyword arg: x. From version 0.12, the only valid positional argument will be `data`, and passing other arguments without an explicit keyword will result in an error or misinterpretation.\n",
      "  warnings.warn(\n"
     ]
    },
    {
     "data": {
      "text/plain": [
       "<AxesSubplot:xlabel='status', ylabel='count'>"
      ]
     },
     "execution_count": 39,
     "metadata": {},
     "output_type": "execute_result"
    },
    {
     "data": {
      "image/png": "[encoded data removed]",
      "text/plain": [
       "<Figure size 432x288 with 1 Axes>"
      ]
     },
     "metadata": {
      "needs_background": "light"
     },
     "output_type": "display_data"
    }
   ],
   "source": [
    "sns.countplot(df['status'])"
   ]
  },
  {
   "cell_type": "markdown",
   "id": "fe1b7846-f1c7-4ff2-9aa9-29c4e3082095",
   "metadata": {},
   "source": [
    "## Step-5: Partition the data into Training and Test sets for model evaluation"
   ]
  },
  {
   "cell_type": "markdown",
   "id": "a4629749-8906-4236-a658-7ce09cb3f6f1",
   "metadata": {},
   "source": [
    "We've decided to utilize a training/test split of the data at 70% training and 30% testing. This percentage split ratio is inline with common practice for small to medium sized datasets, which this data represents. Moreover, we have decided not to do a three way data split, as we are only testing two models and we wish to allocate as much data as possible to training."
   ]
  },
  {
   "cell_type": "code",
   "execution_count": 40,
   "id": "2970c55e-e840-4d1a-9d4a-7e757b136b69",
   "metadata": {
    "id": "2970c55e-e840-4d1a-9d4a-7e757b136b69"
   },
   "outputs": [],
   "source": [
    "train_df, test_df = train_test_split(df, train_size=0.7, random_state=99)"
   ]
  },
  {
   "cell_type": "markdown",
   "id": "677793c5-bf01-4854-a511-b1b9034f8de0",
   "metadata": {},
   "source": [
    "## Step-6: Address Data Imbalances with Oversampling technique"
   ]
  },
  {
   "cell_type": "code",
   "execution_count": 41,
   "id": "29d85ab6-63bd-45ac-a15b-209d10fe1610",
   "metadata": {
    "id": "29d85ab6-63bd-45ac-a15b-209d10fe1610"
   },
   "outputs": [],
   "source": [
    "count_0 = (train_df.status==0).sum()\n",
    "count_1 = (train_df.status==1).sum()"
   ]
  },
  {
   "cell_type": "code",
   "execution_count": 42,
   "id": "f57d62b0-1460-40f8-a54d-7b020680f09e",
   "metadata": {
    "id": "f57d62b0-1460-40f8-a54d-7b020680f09e"
   },
   "outputs": [],
   "source": [
    "train_df_0 = train_df.loc[train_df.status==0]\n",
    "train_df_1 = train_df.loc[train_df.status==1]"
   ]
  },
  {
   "cell_type": "code",
   "execution_count": 43,
   "id": "aec4d8ae-1f0a-4819-a27b-5b66193b5690",
   "metadata": {
    "id": "aec4d8ae-1f0a-4819-a27b-5b66193b5690"
   },
   "outputs": [],
   "source": [
    "train_df_1_oversampled = train_df_1.sample((count_0-count_1),replace=True)"
   ]
  },
  {
   "cell_type": "code",
   "execution_count": 44,
   "id": "fd1d5a08-6489-4ae8-a341-4f474a7e5915",
   "metadata": {
    "id": "fd1d5a08-6489-4ae8-a341-4f474a7e5915"
   },
   "outputs": [],
   "source": [
    "train_df = pd.concat([train_df,train_df_1_oversampled],ignore_index = True)"
   ]
  },
  {
   "cell_type": "code",
   "execution_count": 45,
   "id": "8cf60c3c-0d4e-4e9a-934a-f4cab67af63d",
   "metadata": {
    "colab": {
     "base_uri": "https://localhost:8080/",
     "height": 296
    },
    "id": "8cf60c3c-0d4e-4e9a-934a-f4cab67af63d",
    "outputId": "ba2667ae-51d5-4b97-b384-2eaa8d966ba4"
   },
   "outputs": [
    {
     "name": "stderr",
     "output_type": "stream",
     "text": [
      "/Users/harsha/opt/anaconda3/lib/python3.9/site-packages/seaborn/_decorators.py:36: FutureWarning: Pass the following variable as a keyword arg: x. From version 0.12, the only valid positional argument will be `data`, and passing other arguments without an explicit keyword will result in an error or misinterpretation.\n",
      "  warnings.warn(\n"
     ]
    },
    {
     "data": {
      "text/plain": [
       "<AxesSubplot:xlabel='status', ylabel='count'>"
      ]
     },
     "execution_count": 45,
     "metadata": {},
     "output_type": "execute_result"
    },
    {
     "data": {
      "image/png": "[encoded data removed]",
      "text/plain": [
       "<Figure size 432x288 with 1 Axes>"
      ]
     },
     "metadata": {
      "needs_background": "light"
     },
     "output_type": "display_data"
    }
   ],
   "source": [
    "sns.countplot(train_df['status'])"
   ]
  },
  {
   "cell_type": "code",
   "execution_count": 46,
   "id": "b36f6e5c-297b-4dd3-97c4-ba7b9e677059",
   "metadata": {
    "id": "b36f6e5c-297b-4dd3-97c4-ba7b9e677059"
   },
   "outputs": [],
   "source": [
    "X_train = train_df.drop(columns=['status'])\n",
    "y_train = train_df['status']\n",
    "X_test = test_df.drop(columns=['status'])\n",
    "y_test = test_df['status']"
   ]
  },
  {
   "cell_type": "markdown",
   "id": "b2af7c3b-7c1a-47fb-a838-eb1b2d20e714",
   "metadata": {},
   "source": [
    "# Step-7: Train the models"
   ]
  },
  {
   "cell_type": "markdown",
   "id": "16907403-f29d-426e-a24a-be7f94c3ce33",
   "metadata": {
    "id": "16907403-f29d-426e-a24a-be7f94c3ce33"
   },
   "source": [
    "### 7(a) Decision Tree with Hyper-Parametric Tuning"
   ]
  },
  {
   "cell_type": "code",
   "execution_count": 47,
   "id": "YIrUj-yAtBW1",
   "metadata": {
    "id": "YIrUj-yAtBW1"
   },
   "outputs": [],
   "source": [
    "# Criterion used to guide data splits\n",
    "criterion = ['gini', 'entropy','log_loss']\n",
    "\n",
    "max_depth = [int(x) for x in np.linspace(900, 1200, 50)]\n",
    "max_depth.append(None)\n",
    "min_samples_split = [int(x) for x in np.linspace(0, 100, 20)]\n",
    "min_samples_leaf = [int(x) for x in np.linspace(1, 100, 30)] \n",
    "max_leaf_nodes = [int(x) for x in np.linspace(2, len(y_test), 50)]\n",
    "max_leaf_nodes.append(None)\n",
    "min_impurity_decrease = [x for x in np.arange(0.0, 0.01, 0.0001).round(5)]\n"
   ]
  },
  {
   "cell_type": "code",
   "execution_count": 48,
   "id": "6d9b191f-0736-4c71-bd7b-728520fb7871",
   "metadata": {},
   "outputs": [],
   "source": [
    "# Create the random grid\n",
    "param_grid_random = { 'criterion': criterion,\n",
    "                      'max_depth': max_depth,\n",
    "                      'min_samples_split': min_samples_split,\n",
    "                      'min_samples_leaf' : min_samples_leaf,\n",
    "                      'max_leaf_nodes' : max_leaf_nodes,\n",
    "                      'min_impurity_decrease' : min_impurity_decrease,\n",
    "                     }\n"
   ]
  },
  {
   "cell_type": "code",
   "execution_count": 49,
   "id": "HfcO9x-KtBNk",
   "metadata": {
    "colab": {
     "base_uri": "https://localhost:8080/",
     "height": 346
    },
    "id": "HfcO9x-KtBNk",
    "outputId": "ef3e4c47-8fdd-4a81-ac5f-f2905052df3c"
   },
   "outputs": [
    {
     "name": "stderr",
     "output_type": "stream",
     "text": [
      "/Users/harsha/opt/anaconda3/lib/python3.9/site-packages/sklearn/model_selection/_validation.py:372: FitFailedWarning: \n",
      "5310 fits failed out of a total of 15000.\n",
      "The score on these train-test partitions for these parameters will be set to nan.\n",
      "If these failures are not expected, you can try to debug them by setting error_score='raise'.\n",
      "\n",
      "Below are more details about the failures:\n",
      "--------------------------------------------------------------------------------\n",
      "4580 fits failed with the following error:\n",
      "Traceback (most recent call last):\n",
      "  File \"/Users/harsha/opt/anaconda3/lib/python3.9/site-packages/sklearn/model_selection/_validation.py\", line 680, in _fit_and_score\n",
      "    estimator.fit(X_train, y_train, **fit_params)\n",
      "  File \"/Users/harsha/opt/anaconda3/lib/python3.9/site-packages/sklearn/tree/_classes.py\", line 937, in fit\n",
      "    super().fit(\n",
      "  File \"/Users/harsha/opt/anaconda3/lib/python3.9/site-packages/sklearn/tree/_classes.py\", line 352, in fit\n",
      "    criterion = CRITERIA_CLF[self.criterion](\n",
      "KeyError: 'log_loss'\n",
      "\n",
      "--------------------------------------------------------------------------------\n",
      "730 fits failed with the following error:\n",
      "Traceback (most recent call last):\n",
      "  File \"/Users/harsha/opt/anaconda3/lib/python3.9/site-packages/sklearn/model_selection/_validation.py\", line 680, in _fit_and_score\n",
      "    estimator.fit(X_train, y_train, **fit_params)\n",
      "  File \"/Users/harsha/opt/anaconda3/lib/python3.9/site-packages/sklearn/tree/_classes.py\", line 937, in fit\n",
      "    super().fit(\n",
      "  File \"/Users/harsha/opt/anaconda3/lib/python3.9/site-packages/sklearn/tree/_classes.py\", line 250, in fit\n",
      "    raise ValueError(\n",
      "ValueError: min_samples_split must be an integer greater than 1 or a float in (0.0, 1.0]; got the integer 0\n",
      "\n",
      "  warnings.warn(some_fits_failed_message, FitFailedWarning)\n",
      "/Users/harsha/opt/anaconda3/lib/python3.9/site-packages/sklearn/model_selection/_search.py:969: UserWarning: One or more of the test scores are non-finite: [0.77202797 0.78351353 0.78352503 ... 0.78829821 0.7777719         nan]\n",
      "  warnings.warn(\n"
     ]
    }
   ],
   "source": [
    "best_random_search_model = RandomizedSearchCV(\n",
    "        estimator=DecisionTreeClassifier(random_state=99), \n",
    "        scoring='recall', \n",
    "        param_distributions=param_grid_random, \n",
    "        n_iter = 1500, \n",
    "        cv=10, \n",
    "        verbose=0, \n",
    "        n_jobs = -1\n",
    "    )\n",
    "_ = best_random_search_model.fit(X_train, y_train)"
   ]
  },
  {
   "cell_type": "code",
   "execution_count": 50,
   "id": "CkwE9OjptBKX",
   "metadata": {
    "colab": {
     "base_uri": "https://localhost:8080/"
    },
    "id": "CkwE9OjptBKX",
    "outputId": "1c8b55e8-ac76-48d8-c8e8-57704d7d747d"
   },
   "outputs": [
    {
     "name": "stdout",
     "output_type": "stream",
     "text": [
      "Best parameters found: {'min_samples_split': 5, 'min_samples_leaf': 4, 'min_impurity_decrease': 0.0001, 'max_leaf_nodes': 380, 'max_depth': 912, 'criterion': 'gini'}\n"
     ]
    }
   ],
   "source": [
    "random_search_best_params = best_random_search_model.best_params_\n",
    "print('Best parameters found:', random_search_best_params)"
   ]
  },
  {
   "cell_type": "code",
   "execution_count": 51,
   "id": "wZ_YOWw4vXtv",
   "metadata": {
    "id": "wZ_YOWw4vXtv"
   },
   "outputs": [],
   "source": [
    "param_grid = {\n",
    "    'max_depth': [920,925,930], \n",
    "    'min_samples_split': [24,26,28], \n",
    "    'min_samples_leaf' : [1,2,3],\n",
    "    'min_impurity_decrease': [0.0004, 0.0005,0.0006], \n",
    "    'criterion': ['gini']\n",
    "}"
   ]
  },
  {
   "cell_type": "code",
   "execution_count": 52,
   "id": "Lm06myErvXlo",
   "metadata": {
    "id": "Lm06myErvXlo"
   },
   "outputs": [],
   "source": [
    "best_grid_search_model = GridSearchCV(estimator=DecisionTreeClassifier(random_state=99), \n",
    "                                    scoring='recall', param_grid=param_grid, cv=10, verbose=0,  n_jobs = -1)\n",
    "_ = best_grid_search_model.fit(X_train, y_train)"
   ]
  },
  {
   "cell_type": "code",
   "execution_count": 53,
   "id": "eb9f7378-92ca-4681-905e-542626824c23",
   "metadata": {},
   "outputs": [],
   "source": [
    "y_pred_DT = best_grid_search_model.predict(X_test)"
   ]
  },
  {
   "cell_type": "code",
   "execution_count": 54,
   "id": "123477d3-7ad6-470b-85a1-6b855a28c320",
   "metadata": {
    "colab": {
     "base_uri": "https://localhost:8080/"
    },
    "id": "123477d3-7ad6-470b-85a1-6b855a28c320",
    "outputId": "51294b7c-facb-46b4-95bc-4cd61720a433"
   },
   "outputs": [
    {
     "data": {
      "text/plain": [
       "array([[765, 150],\n",
       "       [108, 305]])"
      ]
     },
     "execution_count": 54,
     "metadata": {},
     "output_type": "execute_result"
    }
   ],
   "source": [
    "confusion_matrix(y_test,y_pred_DT)"
   ]
  },
  {
   "cell_type": "code",
   "execution_count": 55,
   "id": "b5105a5e-2770-4ab3-bde2-9fd2b275197c",
   "metadata": {
    "id": "b5105a5e-2770-4ab3-bde2-9fd2b275197c"
   },
   "outputs": [],
   "source": [
    "DT_scores = []\n",
    "DT_scores.append({ 'Model' : 'Decision Tree',\n",
    "                'Accuracy': accuracy_score(y_test, y_pred_DT),\n",
    "                'Precision': precision_score(y_test, y_pred_DT),\n",
    "                'Recall':recall_score(y_test, y_pred_DT),\n",
    "                'F1': f1_score(y_test,y_pred_DT),\n",
    "                'F2': fbeta_score(y_test,y_pred_DT, beta = 2, average = 'binary')\n",
    "})"
   ]
  },
  {
   "cell_type": "code",
   "execution_count": 56,
   "id": "a0168b42-8e11-47ba-8699-af684793fd14",
   "metadata": {
    "colab": {
     "base_uri": "https://localhost:8080/",
     "height": 81
    },
    "id": "a0168b42-8e11-47ba-8699-af684793fd14",
    "outputId": "c021b66f-516e-417e-e39c-44d92dc41b1d"
   },
   "outputs": [
    {
     "data": {
      "text/html": [
       "<div>\n",
       "<style scoped>\n",
       "    .dataframe tbody tr th:only-of-type {\n",
       "        vertical-align: middle;\n",
       "    }\n",
       "\n",
       "    .dataframe tbody tr th {\n",
       "        vertical-align: top;\n",
       "    }\n",
       "\n",
       "    .dataframe thead th {\n",
       "        text-align: right;\n",
       "    }\n",
       "</style>\n",
       "<table border=\"1\" class=\"dataframe\">\n",
       "  <thead>\n",
       "    <tr style=\"text-align: right;\">\n",
       "      <th></th>\n",
       "      <th>Model</th>\n",
       "      <th>Accuracy</th>\n",
       "      <th>Precision</th>\n",
       "      <th>Recall</th>\n",
       "      <th>F1</th>\n",
       "      <th>F2</th>\n",
       "    </tr>\n",
       "  </thead>\n",
       "  <tbody>\n",
       "    <tr>\n",
       "      <th>0</th>\n",
       "      <td>Decision Tree</td>\n",
       "      <td>0.805723</td>\n",
       "      <td>0.67033</td>\n",
       "      <td>0.738499</td>\n",
       "      <td>0.702765</td>\n",
       "      <td>0.723778</td>\n",
       "    </tr>\n",
       "  </tbody>\n",
       "</table>\n",
       "</div>"
      ],
      "text/plain": [
       "           Model  Accuracy  Precision    Recall        F1        F2\n",
       "0  Decision Tree  0.805723    0.67033  0.738499  0.702765  0.723778"
      ]
     },
     "execution_count": 56,
     "metadata": {},
     "output_type": "execute_result"
    }
   ],
   "source": [
    "Decision_Tree_scores= pd.DataFrame(DT_scores)\n",
    "Decision_Tree_scores"
   ]
  },
  {
   "cell_type": "markdown",
   "id": "1ed18b6f-11b9-4f5d-b266-b74c77ac8ceb",
   "metadata": {
    "id": "tWEOCA2Ds2BA"
   },
   "source": [
    "### 7(b) Random Forest- Ensemble Technique(Bagging)"
   ]
  },
  {
   "cell_type": "code",
   "execution_count": 57,
   "id": "83750801-bf2b-41e8-9932-74f664e047ca",
   "metadata": {},
   "outputs": [],
   "source": [
    "rforest = RandomForestClassifier(random_state=99)\n",
    "_ = rforest.fit(X_train, y_train)"
   ]
  },
  {
   "cell_type": "code",
   "execution_count": 58,
   "id": "ea2ce3c9-7c81-4e19-a866-49ffddc30464",
   "metadata": {},
   "outputs": [],
   "source": [
    "y_pred_RF = rforest.predict(X_test)"
   ]
  },
  {
   "cell_type": "code",
   "execution_count": 59,
   "id": "15d349eb-8ad6-47da-9289-08b524668742",
   "metadata": {},
   "outputs": [
    {
     "data": {
      "text/plain": [
       "array([[858,  57],\n",
       "       [114, 299]])"
      ]
     },
     "execution_count": 59,
     "metadata": {},
     "output_type": "execute_result"
    }
   ],
   "source": [
    "confusion_matrix(y_test,y_pred_RF)"
   ]
  },
  {
   "cell_type": "code",
   "execution_count": 60,
   "id": "284af8c7-ff0f-470f-986e-e790e8796194",
   "metadata": {},
   "outputs": [],
   "source": [
    "RF_scores = []\n",
    "RF_scores.append({ 'Model' : 'Random Forest',\n",
    "                'Accuracy': accuracy_score(y_test, y_pred_RF),\n",
    "                'Precision': precision_score(y_test, y_pred_RF),\n",
    "                'Recall':recall_score(y_test, y_pred_RF),\n",
    "                'F1': f1_score(y_test,y_pred_RF),\n",
    "                'F2': fbeta_score(y_test,y_pred_RF, beta = 2, average = 'binary')\n",
    "})"
   ]
  },
  {
   "cell_type": "code",
   "execution_count": 61,
   "id": "4096490c-2fd0-4d18-bb53-10a04bf2649d",
   "metadata": {},
   "outputs": [
    {
     "data": {
      "text/html": [
       "<div>\n",
       "<style scoped>\n",
       "    .dataframe tbody tr th:only-of-type {\n",
       "        vertical-align: middle;\n",
       "    }\n",
       "\n",
       "    .dataframe tbody tr th {\n",
       "        vertical-align: top;\n",
       "    }\n",
       "\n",
       "    .dataframe thead th {\n",
       "        text-align: right;\n",
       "    }\n",
       "</style>\n",
       "<table border=\"1\" class=\"dataframe\">\n",
       "  <thead>\n",
       "    <tr style=\"text-align: right;\">\n",
       "      <th></th>\n",
       "      <th>Model</th>\n",
       "      <th>Accuracy</th>\n",
       "      <th>Precision</th>\n",
       "      <th>Recall</th>\n",
       "      <th>F1</th>\n",
       "      <th>F2</th>\n",
       "    </tr>\n",
       "  </thead>\n",
       "  <tbody>\n",
       "    <tr>\n",
       "      <th>0</th>\n",
       "      <td>Random Forest</td>\n",
       "      <td>0.871235</td>\n",
       "      <td>0.839888</td>\n",
       "      <td>0.723971</td>\n",
       "      <td>0.777633</td>\n",
       "      <td>0.744522</td>\n",
       "    </tr>\n",
       "  </tbody>\n",
       "</table>\n",
       "</div>"
      ],
      "text/plain": [
       "           Model  Accuracy  Precision    Recall        F1        F2\n",
       "0  Random Forest  0.871235   0.839888  0.723971  0.777633  0.744522"
      ]
     },
     "execution_count": 61,
     "metadata": {},
     "output_type": "execute_result"
    }
   ],
   "source": [
    "Random_Forest_scores= pd.DataFrame(RF_scores)\n",
    "Random_Forest_scores"
   ]
  },
  {
   "cell_type": "markdown",
   "id": "f687ebdc-e637-4981-acf8-816f49f5f306",
   "metadata": {
    "id": "f687ebdc-e637-4981-acf8-816f49f5f306"
   },
   "source": [
    "### 7(c) AdaBoost"
   ]
  },
  {
   "cell_type": "code",
   "execution_count": 62,
   "id": "19ab701d-e4e1-4c05-9e90-c752d63b60d4",
   "metadata": {
    "id": "19ab701d-e4e1-4c05-9e90-c752d63b60d4"
   },
   "outputs": [],
   "source": [
    "aboost = AdaBoostClassifier(random_state=99)\n",
    "_ = aboost.fit(X_train, y_train)"
   ]
  },
  {
   "cell_type": "code",
   "execution_count": 63,
   "id": "99e001ce-6a3e-438f-a52f-31db2f58478e",
   "metadata": {
    "id": "99e001ce-6a3e-438f-a52f-31db2f58478e"
   },
   "outputs": [],
   "source": [
    "y_pred_ADB = aboost.predict(X_test)"
   ]
  },
  {
   "cell_type": "code",
   "execution_count": 64,
   "id": "IB2Tdfkw3BYN",
   "metadata": {
    "colab": {
     "base_uri": "https://localhost:8080/"
    },
    "id": "IB2Tdfkw3BYN",
    "outputId": "14f719d5-2e1d-4271-8801-0c23d550c8ae"
   },
   "outputs": [
    {
     "data": {
      "text/plain": [
       "array([[813, 102],\n",
       "       [ 86, 327]])"
      ]
     },
     "execution_count": 64,
     "metadata": {},
     "output_type": "execute_result"
    }
   ],
   "source": [
    "confusion_matrix(y_test, y_pred_ADB)"
   ]
  },
  {
   "cell_type": "code",
   "execution_count": 65,
   "id": "e6efde2a-cece-4398-be91-3d044747272a",
   "metadata": {
    "id": "e6efde2a-cece-4398-be91-3d044747272a"
   },
   "outputs": [],
   "source": [
    "ADB = []\n",
    "ADB.append({ \n",
    "                'Model' : 'AdaBoost',\n",
    "                'Accuracy': accuracy_score(y_test, y_pred_ADB),\n",
    "                'Precision': precision_score(y_test, y_pred_ADB),\n",
    "                'Recall':recall_score(y_test, y_pred_ADB),\n",
    "                'F1': f1_score(y_test,y_pred_ADB),\n",
    "                'F2': fbeta_score(y_test,y_pred_ADB, beta = 2, average = 'binary')\n",
    "})"
   ]
  },
  {
   "cell_type": "code",
   "execution_count": 66,
   "id": "too1iFhN1GKs",
   "metadata": {
    "colab": {
     "base_uri": "https://localhost:8080/",
     "height": 81
    },
    "id": "too1iFhN1GKs",
    "outputId": "f44fd281-5176-425f-f3eb-340004297040"
   },
   "outputs": [
    {
     "data": {
      "text/html": [
       "<div>\n",
       "<style scoped>\n",
       "    .dataframe tbody tr th:only-of-type {\n",
       "        vertical-align: middle;\n",
       "    }\n",
       "\n",
       "    .dataframe tbody tr th {\n",
       "        vertical-align: top;\n",
       "    }\n",
       "\n",
       "    .dataframe thead th {\n",
       "        text-align: right;\n",
       "    }\n",
       "</style>\n",
       "<table border=\"1\" class=\"dataframe\">\n",
       "  <thead>\n",
       "    <tr style=\"text-align: right;\">\n",
       "      <th></th>\n",
       "      <th>Model</th>\n",
       "      <th>Accuracy</th>\n",
       "      <th>Precision</th>\n",
       "      <th>Recall</th>\n",
       "      <th>F1</th>\n",
       "      <th>F2</th>\n",
       "    </tr>\n",
       "  </thead>\n",
       "  <tbody>\n",
       "    <tr>\n",
       "      <th>0</th>\n",
       "      <td>AdaBoost</td>\n",
       "      <td>0.858434</td>\n",
       "      <td>0.762238</td>\n",
       "      <td>0.791768</td>\n",
       "      <td>0.776722</td>\n",
       "      <td>0.78568</td>\n",
       "    </tr>\n",
       "  </tbody>\n",
       "</table>\n",
       "</div>"
      ],
      "text/plain": [
       "      Model  Accuracy  Precision    Recall        F1       F2\n",
       "0  AdaBoost  0.858434   0.762238  0.791768  0.776722  0.78568"
      ]
     },
     "execution_count": 66,
     "metadata": {},
     "output_type": "execute_result"
    }
   ],
   "source": [
    "AdaBoost_scores= pd.DataFrame(ADB)\n",
    "AdaBoost_scores"
   ]
  },
  {
   "cell_type": "markdown",
   "id": "54e85e62-da39-4592-b279-b4f967906e9f",
   "metadata": {
    "id": "54e85e62-da39-4592-b279-b4f967906e9f"
   },
   "source": [
    "### 7(d) Gradient Boost"
   ]
  },
  {
   "cell_type": "code",
   "execution_count": 67,
   "id": "209715b3-6433-4549-ae60-dd934f41275d",
   "metadata": {
    "id": "209715b3-6433-4549-ae60-dd934f41275d"
   },
   "outputs": [],
   "source": [
    "gboost = GradientBoostingClassifier(random_state=99)\n",
    "_ = gboost.fit(X_train, y_train)\n"
   ]
  },
  {
   "cell_type": "code",
   "execution_count": 68,
   "id": "QZ-tP1yB1aAd",
   "metadata": {
    "id": "QZ-tP1yB1aAd"
   },
   "outputs": [],
   "source": [
    "y_pred_GB = gboost.predict(X_test)"
   ]
  },
  {
   "cell_type": "code",
   "execution_count": 69,
   "id": "8n1S4NI22FQx",
   "metadata": {
    "colab": {
     "base_uri": "https://localhost:8080/"
    },
    "id": "8n1S4NI22FQx",
    "outputId": "783cca32-5d20-41fb-e9b7-54a5e91cd624"
   },
   "outputs": [
    {
     "data": {
      "text/plain": [
       "array([[832,  83],\n",
       "       [ 94, 319]])"
      ]
     },
     "execution_count": 69,
     "metadata": {},
     "output_type": "execute_result"
    }
   ],
   "source": [
    "confusion_matrix(y_test, y_pred_GB)"
   ]
  },
  {
   "cell_type": "code",
   "execution_count": 70,
   "id": "eSWRbllG1coH",
   "metadata": {
    "id": "eSWRbllG1coH"
   },
   "outputs": [],
   "source": [
    "GB = []\n",
    "GB.append({     'Model' : 'Gradient Boost',\n",
    "                'Accuracy': accuracy_score(y_test, y_pred_GB),\n",
    "                'Precision': precision_score(y_test, y_pred_GB),\n",
    "                'Recall':recall_score(y_test, y_pred_GB),\n",
    "                'F1': f1_score(y_test,y_pred_GB),\n",
    "                'F2': fbeta_score(y_test,y_pred_GB, beta = 2, average = 'binary')\n",
    "})"
   ]
  },
  {
   "cell_type": "code",
   "execution_count": 71,
   "id": "qTvkOs_o1m98",
   "metadata": {
    "colab": {
     "base_uri": "https://localhost:8080/",
     "height": 81
    },
    "id": "qTvkOs_o1m98",
    "outputId": "7a00f404-5c11-44fe-a6b0-21b5a4a759e1"
   },
   "outputs": [
    {
     "data": {
      "text/html": [
       "<div>\n",
       "<style scoped>\n",
       "    .dataframe tbody tr th:only-of-type {\n",
       "        vertical-align: middle;\n",
       "    }\n",
       "\n",
       "    .dataframe tbody tr th {\n",
       "        vertical-align: top;\n",
       "    }\n",
       "\n",
       "    .dataframe thead th {\n",
       "        text-align: right;\n",
       "    }\n",
       "</style>\n",
       "<table border=\"1\" class=\"dataframe\">\n",
       "  <thead>\n",
       "    <tr style=\"text-align: right;\">\n",
       "      <th></th>\n",
       "      <th>Model</th>\n",
       "      <th>Accuracy</th>\n",
       "      <th>Precision</th>\n",
       "      <th>Recall</th>\n",
       "      <th>F1</th>\n",
       "      <th>F2</th>\n",
       "    </tr>\n",
       "  </thead>\n",
       "  <tbody>\n",
       "    <tr>\n",
       "      <th>0</th>\n",
       "      <td>Gradient Boost</td>\n",
       "      <td>0.866717</td>\n",
       "      <td>0.793532</td>\n",
       "      <td>0.772397</td>\n",
       "      <td>0.782822</td>\n",
       "      <td>0.776534</td>\n",
       "    </tr>\n",
       "  </tbody>\n",
       "</table>\n",
       "</div>"
      ],
      "text/plain": [
       "            Model  Accuracy  Precision    Recall        F1        F2\n",
       "0  Gradient Boost  0.866717   0.793532  0.772397  0.782822  0.776534"
      ]
     },
     "execution_count": 71,
     "metadata": {},
     "output_type": "execute_result"
    }
   ],
   "source": [
    "GradBoost_scores= pd.DataFrame(GB)\n",
    "GradBoost_scores"
   ]
  },
  {
   "cell_type": "markdown",
   "id": "8d6534ac-cee3-4dcb-96ae-e7abda572c13",
   "metadata": {
    "id": "rEozYvqX13ra"
   },
   "source": [
    "### 7(e) K-Nearest Neighbours with Hyper Parameter tuning"
   ]
  },
  {
   "cell_type": "code",
   "execution_count": 72,
   "id": "2f4b0488-3518-4a92-8f38-9be3c53895e9",
   "metadata": {},
   "outputs": [],
   "source": [
    "#Standardize the data\n",
    "\n",
    "scaler = StandardScaler()\n",
    "scaler.fit(X_train)\n",
    "X_train_KNN = scaler.transform(X_train)\n",
    "X_test_KNN = scaler.transform(X_test)\n",
    "y_train_KNN = y_train\n",
    "y_test_KNN = y_test\n",
    "\n"
   ]
  },
  {
   "cell_type": "code",
   "execution_count": 73,
   "id": "4d84533e-291e-4694-aefe-574e288b5948",
   "metadata": {},
   "outputs": [
    {
     "ename": "NameError",
     "evalue": "name 'score_measure' is not defined",
     "output_type": "error",
     "traceback": [
      "\u001b[0;31m---------------------------------------------------------------------------\u001b[0m",
      "\u001b[0;31mNameError\u001b[0m                                 Traceback (most recent call last)",
      "Input \u001b[0;32mIn [73]\u001b[0m, in \u001b[0;36m<cell line: 12>\u001b[0;34m()\u001b[0m\n\u001b[1;32m      9\u001b[0m gridSearch \u001b[38;5;241m=\u001b[39m GridSearchCV(KNeighborsClassifier(), param_grid, cv\u001b[38;5;241m=\u001b[39mk_fold, scoring\u001b[38;5;241m=\u001b[39m\u001b[38;5;124m'\u001b[39m\u001b[38;5;124mrecall\u001b[39m\u001b[38;5;124m'\u001b[39m,\n\u001b[1;32m     10\u001b[0m                               n_jobs\u001b[38;5;241m=\u001b[39m\u001b[38;5;241m-\u001b[39m\u001b[38;5;241m1\u001b[39m)  \u001b[38;5;66;03m# n_jobs=-1 will utilize all available CPUs \u001b[39;00m\n\u001b[1;32m     11\u001b[0m gridSearch\u001b[38;5;241m.\u001b[39mfit(X_train_KNN, y_train)\n\u001b[0;32m---> 12\u001b[0m \u001b[38;5;28mprint\u001b[39m(\u001b[43mscore_measure\u001b[49m, \u001b[38;5;124m'\u001b[39m\u001b[38;5;124mscore: \u001b[39m\u001b[38;5;124m'\u001b[39m, gridSearch\u001b[38;5;241m.\u001b[39mbest_score_)\n\u001b[1;32m     13\u001b[0m \u001b[38;5;28mprint\u001b[39m(\u001b[38;5;124m'\u001b[39m\u001b[38;5;124mparameters: \u001b[39m\u001b[38;5;124m'\u001b[39m, gridSearch\u001b[38;5;241m.\u001b[39mbest_params_)\n\u001b[1;32m     14\u001b[0m best_KNN \u001b[38;5;241m=\u001b[39m gridSearch\u001b[38;5;241m.\u001b[39mbest_estimator_\n",
      "\u001b[0;31mNameError\u001b[0m: name 'score_measure' is not defined"
     ]
    }
   ],
   "source": [
    "#knn\n",
    "k_fold = 10\n",
    "param_grid = {\n",
    "    'n_neighbors': list(range(1,round(len(y_train)**0.5),2)),\n",
    "    'metric': ['euclidean', 'cosine']    \n",
    "}\n",
    "\n",
    "\n",
    "gridSearch = GridSearchCV(KNeighborsClassifier(), param_grid, cv=k_fold, scoring='recall',\n",
    "                              n_jobs=-1)  # n_jobs=-1 will utilize all available CPUs \n",
    "gridSearch.fit(X_train_KNN, y_train)\n",
    "print(score_measure, 'score: ', gridSearch.best_score_)\n",
    "print('parameters: ', gridSearch.best_params_)\n",
    "best_KNN = gridSearch.best_estimator_\n",
    "y_pred_KNN = best_KNN.predict(X_test_KNN)\n"
   ]
  },
  {
   "cell_type": "code",
   "execution_count": null,
   "id": "9e141161-d080-4510-97ff-aa38ef5f7f2d",
   "metadata": {},
   "outputs": [],
   "source": [
    "KNN = []\n",
    "for k in range(1,int(len(y_test)**0.5)*2,2):\n",
    "    knn = KNeighborsClassifier(n_neighbors=k,  metric='cosine')\n",
    "    knn.fit(X_train, y_train)\n",
    "    y_pred_knn = knn.predict(X_test)\n",
    "    \n",
    "    KNN.append({ \n",
    "                'k':k,\n",
    "                'Accuracy': accuracy_score(y_test, y_pred_knn),\n",
    "                'Precision': precision_score(y_test, y_pred_knn),\n",
    "                'Recall':recall_score(y_test, y_pred_knn),\n",
    "                'F1': f1_score(y_test,y_pred_GB),\n",
    "                'F2': fbeta_score(y_test,y_pred_GB, beta = 2, average = 'binary')\n",
    "        })\n"
   ]
  },
  {
   "cell_type": "code",
   "execution_count": null,
   "id": "c10814bc-6cba-44b2-908a-04ac72888d7f",
   "metadata": {},
   "outputs": [],
   "source": [
    "KNN_scores_df = pd.DataFrame(KNN)\n",
    "KNN_scores_df"
   ]
  },
  {
   "cell_type": "code",
   "execution_count": null,
   "id": "b646085e-e6c2-48d0-be1e-ace3373f5508",
   "metadata": {},
   "outputs": [],
   "source": [
    "KNN_scores_df.loc[KNN_scores_df['Recall'].idxmax()]"
   ]
  },
  {
   "cell_type": "code",
   "execution_count": null,
   "id": "9f8e9296-02ce-4d85-84e7-286dfab4713f",
   "metadata": {},
   "outputs": [],
   "source": [
    "KNN = []\n",
    "\n",
    "KNN.append({ \n",
    "                'k':k,\n",
    "                'Accuracy': accuracy_score(y_test, y_pred_knn),\n",
    "                'Precision': precision_score(y_test, y_pred_knn),\n",
    "                'Recall':recall_score(y_test, y_pred_knn),\n",
    "                'F1': f1_score(y_test,y_pred_GB),\n",
    "                'F2': fbeta_score(y_test,y_pred_GB, beta = 2, average = 'binary')\n",
    "        })"
   ]
  },
  {
   "cell_type": "code",
   "execution_count": null,
   "id": "30b51c19-b8af-4337-af45-5cc05d779a47",
   "metadata": {},
   "outputs": [],
   "source": [
    "KNN = []\n",
    "\n",
    "KNN.append({ \n",
    "                'Model':'KNN',\n",
    "                'Accuracy': 0.816265,\n",
    "                'Precision': 0.691610,\n",
    "                'Recall':0.738499,\n",
    "                'F1': 0.785714,\n",
    "                'F2': 777669\n",
    "        })"
   ]
  },
  {
   "cell_type": "code",
   "execution_count": null,
   "id": "78bf76d7-567b-4b0a-a220-1029d25e562e",
   "metadata": {},
   "outputs": [],
   "source": [
    "KNN_scores_df_1 = pd.DataFrame(KNN)\n",
    "KNN_scores_df_1"
   ]
  },
  {
   "cell_type": "markdown",
   "id": "0e96aebb-1155-4c86-99c0-f31a5f653841",
   "metadata": {
    "id": "0e96aebb-1155-4c86-99c0-f31a5f653841"
   },
   "source": [
    "### 7(f) XG Boost"
   ]
  },
  {
   "cell_type": "code",
   "execution_count": null,
   "id": "adc91934-cc18-404a-a25c-9733e97fbc61",
   "metadata": {
    "id": "adc91934-cc18-404a-a25c-9733e97fbc61"
   },
   "outputs": [],
   "source": [
    "\n",
    "xgboost = XGBClassifier(random_state=99)\n",
    "_ = xgboost.fit(X_train, y_train)\n"
   ]
  },
  {
   "cell_type": "code",
   "execution_count": null,
   "id": "LxbjAtRP24CT",
   "metadata": {
    "id": "LxbjAtRP24CT"
   },
   "outputs": [],
   "source": [
    "y_pred_XGB = xgboost.predict(X_test)"
   ]
  },
  {
   "cell_type": "code",
   "execution_count": null,
   "id": "j6MIZmlf3RmX",
   "metadata": {
    "colab": {
     "base_uri": "https://localhost:8080/"
    },
    "id": "j6MIZmlf3RmX",
    "outputId": "c4df61d2-b9d0-4f33-b33c-f651bcf91098"
   },
   "outputs": [],
   "source": [
    "confusion_matrix(y_test,y_pred_XGB)"
   ]
  },
  {
   "cell_type": "code",
   "execution_count": null,
   "id": "oH1H3QAZ3Rej",
   "metadata": {
    "id": "oH1H3QAZ3Rej"
   },
   "outputs": [],
   "source": [
    "XGB = []\n",
    "XGB.append({    'Model' : 'XGBoost',\n",
    "                'Accuracy': accuracy_score(y_test, y_pred_XGB),\n",
    "                'Precision': precision_score(y_test, y_pred_XGB),\n",
    "                'Recall':recall_score(y_test, y_pred_XGB),\n",
    "                'F1': f1_score(y_test,y_pred_XGB),\n",
    "                'F2': fbeta_score(y_test,y_pred_XGB, beta = 2, average = 'binary')\n",
    "})"
   ]
  },
  {
   "cell_type": "code",
   "execution_count": null,
   "id": "yZjCMwke3q_d",
   "metadata": {
    "colab": {
     "base_uri": "https://localhost:8080/",
     "height": 81
    },
    "id": "yZjCMwke3q_d",
    "outputId": "c5286951-bf64-4cbe-f6e1-dd747a8064b7"
   },
   "outputs": [],
   "source": [
    "XGBoost_scores= pd.DataFrame(XGB)\n",
    "XGBoost_scores"
   ]
  },
  {
   "cell_type": "markdown",
   "id": "9d23f4c7-f6f7-4518-9cf3-ebd4a87e6f1e",
   "metadata": {
    "id": "mEURpJwA7WDo"
   },
   "source": [
    "### 7(g) Logistic Regression with Hyper parameter tuning"
   ]
  },
  {
   "cell_type": "code",
   "execution_count": null,
   "id": "me0kEIgC7V9_",
   "metadata": {
    "id": "me0kEIgC7V9_"
   },
   "outputs": [],
   "source": [
    "param_grid_LR = { 'solver': ['newton-cg', 'lbfgs', 'liblinear','sag', 'saga'],\n",
    "                      'penalty': ['l1', 'l2', 'none'],\n",
    "                      'C': [100, 10, 1.0, 0.1, 0.01],\n",
    "                      'max_iter': [1000] \n",
    "                     }"
   ]
  },
  {
   "cell_type": "code",
   "execution_count": null,
   "id": "76Ufi0Ho7V5w",
   "metadata": {
    "colab": {
     "base_uri": "https://localhost:8080/"
    },
    "id": "76Ufi0Ho7V5w",
    "outputId": "9e4774f5-746f-46c1-e512-832eaedc7aa3"
   },
   "outputs": [],
   "source": [
    "best_logClassifier = GridSearchCV(estimator=LogisticRegression(random_state=99),\n",
    "                                    scoring= 'recall', param_grid=param_grid_LR, \n",
    "                                    cv=2, verbose=0,  n_jobs = -1)\n",
    "best_logClassifier = best_logClassifier.fit(X_train, y_train)"
   ]
  },
  {
   "cell_type": "code",
   "execution_count": null,
   "id": "R-x8-Biz7Vyq",
   "metadata": {
    "colab": {
     "base_uri": "https://localhost:8080/",
     "height": 166
    },
    "id": "R-x8-Biz7Vyq",
    "outputId": "f5b958c0-8b1e-4bda-943a-c8fce71218c8"
   },
   "outputs": [],
   "source": [
    "y_pred_LR = best_logClassifier.predict(X_test)"
   ]
  },
  {
   "cell_type": "code",
   "execution_count": null,
   "id": "FUqjqGtq7VwE",
   "metadata": {
    "id": "FUqjqGtq7VwE"
   },
   "outputs": [],
   "source": [
    "LogReg = []\n",
    "LogReg.append({ 'Model' : 'Logistic Regression', \n",
    "                'Accuracy': accuracy_score(y_test, y_pred_LR),\n",
    "                'Precision': precision_score(y_test, y_pred_LR),\n",
    "                'Recall':recall_score(y_test, y_pred_LR),\n",
    "                'F1': f1_score(y_test,y_pred_LR),\n",
    "                'F2': fbeta_score(y_test,y_pred_LR, beta = 2, average = 'binary')\n",
    "})"
   ]
  },
  {
   "cell_type": "code",
   "execution_count": null,
   "id": "J9yMzTod7VtC",
   "metadata": {
    "colab": {
     "base_uri": "https://localhost:8080/",
     "height": 81
    },
    "id": "J9yMzTod7VtC",
    "outputId": "825637ed-4514-417d-dad6-b9e5cd5935c0"
   },
   "outputs": [],
   "source": [
    "LogReg_scores= pd.DataFrame(LogReg)\n",
    "LogReg_scores"
   ]
  },
  {
   "cell_type": "markdown",
   "id": "8cb0ede0-253a-4c9b-b22d-9f199fb6f0bd",
   "metadata": {
    "id": "8cb0ede0-253a-4c9b-b22d-9f199fb6f0bd"
   },
   "source": [
    "### 7(h) Artificial Neural Networks(ANN)"
   ]
  },
  {
   "cell_type": "code",
   "execution_count": null,
   "id": "7C12udqB4KNR",
   "metadata": {
    "id": "7C12udqB4KNR"
   },
   "outputs": [],
   "source": [
    "param_grid = {\n",
    "    'hidden_layer_sizes': [(200), (200,100), (200,100,50), (200,100,50,40)], \n",
    "    'solver': ['lbfgs','adam', 'sdg'], \n",
    "    'activation': ['tanh','relu'],\n",
    "    'learning_rate': ['constant', 'invscaling', 'adaptive']\n",
    "}"
   ]
  },
  {
   "cell_type": "code",
   "execution_count": null,
   "id": "9Iho0TIv4pST",
   "metadata": {
    "colab": {
     "base_uri": "https://localhost:8080/"
    },
    "id": "9Iho0TIv4pST",
    "outputId": "dcc60c4f-5d80-4f57-d4d0-537bab660557",
    "tags": []
   },
   "outputs": [],
   "source": [
    "best_grid_search_model = GridSearchCV(estimator=MLPClassifier(max_iter=100), \n",
    "                                    scoring='recall', param_grid=param_grid)\n",
    "_ = best_grid_search_model.fit(X_train, y_train)"
   ]
  },
  {
   "cell_type": "code",
   "execution_count": null,
   "id": "MNtTLIIs4bx7",
   "metadata": {
    "id": "MNtTLIIs4bx7"
   },
   "outputs": [],
   "source": [
    "y_pred_ANN = best_grid_search_model.predict(X_test)"
   ]
  },
  {
   "cell_type": "code",
   "execution_count": null,
   "id": "yXINUA2X60nI",
   "metadata": {
    "colab": {
     "base_uri": "https://localhost:8080/"
    },
    "id": "yXINUA2X60nI",
    "outputId": "60f59f59-5af6-4b83-a094-5fcc0ece90ef"
   },
   "outputs": [],
   "source": [
    "confusion_matrix(y_test,y_pred_ANN)"
   ]
  },
  {
   "cell_type": "code",
   "execution_count": null,
   "id": "Ymha8RNU60kf",
   "metadata": {
    "id": "Ymha8RNU60kf"
   },
   "outputs": [],
   "source": [
    "ANN = []\n",
    "ANN.append({    'Model' : 'Neural Network', \n",
    "                'Accuracy': accuracy_score(y_test, y_pred_ANN),\n",
    "                'Precision': precision_score(y_test, y_pred_ANN),\n",
    "                'Recall':recall_score(y_test, y_pred_ANN),\n",
    "                'F1': f1_score(y_test,y_pred_ANN),\n",
    "                'F2': fbeta_score(y_test,y_pred_ANN, beta = 2, average = 'binary')\n",
    "})"
   ]
  },
  {
   "cell_type": "code",
   "execution_count": null,
   "id": "LzjpW0Qy60hp",
   "metadata": {
    "colab": {
     "base_uri": "https://localhost:8080/",
     "height": 81
    },
    "id": "LzjpW0Qy60hp",
    "outputId": "bdc3efcd-1fb9-40b3-8671-f2246427cb25"
   },
   "outputs": [],
   "source": [
    "ANN_scores= pd.DataFrame(ANN)\n",
    "ANN_scores"
   ]
  },
  {
   "cell_type": "code",
   "execution_count": null,
   "id": "Vg3glg_c60fh",
   "metadata": {
    "colab": {
     "base_uri": "https://localhost:8080/"
    },
    "id": "Vg3glg_c60fh",
    "outputId": "d1c37fb3-c7d9-4852-fa41-5df3faa08045",
    "tags": []
   },
   "outputs": [],
   "source": [
    "best_grid_search_model.get_params()"
   ]
  },
  {
   "cell_type": "code",
   "execution_count": null,
   "id": "GBlIEHSd60co",
   "metadata": {
    "colab": {
     "base_uri": "https://localhost:8080/"
    },
    "id": "GBlIEHSd60co",
    "outputId": "7ec72bff-25af-47ea-80ff-724054883482"
   },
   "outputs": [],
   "source": [
    "ann = MLPClassifier(hidden_layer_sizes=(250,150,50), solver='lbfgs', max_iter=150)\n",
    "_ = ann.fit(X_train, y_train)\n",
    "y_pred_ANN_1 = ann.predict(X_test)"
   ]
  },
  {
   "cell_type": "code",
   "execution_count": null,
   "id": "fdAqoqlV60Vn",
   "metadata": {
    "id": "fdAqoqlV60Vn"
   },
   "outputs": [],
   "source": [
    "ANN_1 = []\n",
    "ANN_1.append({  'Model' : 'Neural Network-Final', \n",
    "                'Accuracy': accuracy_score(y_test, y_pred_ANN_1),\n",
    "                'Precision': precision_score(y_test, y_pred_ANN_1),\n",
    "                'Recall':recall_score(y_test, y_pred_ANN_1),\n",
    "                'F1': f1_score(y_test,y_pred_ANN_1),\n",
    "                'F2': fbeta_score(y_test,y_pred_ANN_1, beta = 2, average = 'binary')\n",
    "})"
   ]
  },
  {
   "cell_type": "code",
   "execution_count": null,
   "id": "9XaaOcTHT7TE",
   "metadata": {
    "colab": {
     "base_uri": "https://localhost:8080/",
     "height": 81
    },
    "id": "9XaaOcTHT7TE",
    "outputId": "c5fd9102-4fa6-437b-bde0-cb146bb0b7e4"
   },
   "outputs": [],
   "source": [
    "ANN_1_scores= pd.DataFrame(ANN_1)\n",
    "ANN_1_scores"
   ]
  },
  {
   "cell_type": "markdown",
   "id": "37961d3e-b57e-4ca6-a498-5fe62cf805b9",
   "metadata": {},
   "source": [
    "# Step-8: Conclusion"
   ]
  },
  {
   "cell_type": "code",
   "execution_count": null,
   "id": "dfcdf382-aa15-4952-a378-53cec41c2012",
   "metadata": {},
   "outputs": [],
   "source": [
    "final = ANN_1_scores.append(ANN_scores).append(XGBoost_scores).append(Decision_Tree_scores).append(Random_Forest_scores).append(AdaBoost_scores).append(GradBoost_scores).append(LogReg_scores).append(KNN_scores_df_1)\n",
    "#final = pd.concat(XGBoost_scores,ANN_1_scores,ANN_scores)\n",
    "       \n"
   ]
  },
  {
   "cell_type": "code",
   "execution_count": null,
   "id": "e6e03d38-7bed-42c4-9e4f-5aad06aabcf5",
   "metadata": {},
   "outputs": [],
   "source": [
    "final"
   ]
  },
  {
   "cell_type": "markdown",
   "id": "5008afc0-6166-45bc-a710-ac9c641af262",
   "metadata": {},
   "source": [
    "# Step-8: Conclusion"
   ]
  },
  {
   "cell_type": "markdown",
   "id": "3b9433c4-5b64-4e2a-80dd-bbb2b148d78b",
   "metadata": {},
   "source": [
    "Below is the summary of the analysis:\n",
    "    \n",
    "Broadly, the attributes can be classified into three categories:\n",
    "    1) Student attributes collected at the time of student enrolment into the college\n",
    "    2) Student academic performance for the first year(2 semesters)\n",
    "    3) Macro-economic data like Inflation, GDP, Unemployment.\n",
    "    \n",
    "Regarding the macro-economic data (\"Employment rate\", \"GDP\" and \"Inflation), there is ambiguity on the year considered (whether it was at the time of enrolment or at the time of student drop-out).\n",
    "Hence, the same are being dropped for the analysis.\n",
    "\n",
    "We considered two cases for our analysis:\n",
    "    \n",
    "In Case-1, we considered only the student attributes collected at the time of enrolment. \n",
    "In Case-2, we considered all the attributes excluding the macro-economic data.\n",
    "\n",
    "The primary objective is to identify the drop-outs early in their academic path so that necessary inteventions by the University can be put into place. So, we aim to minimize the False Negatives through our models. Accordingly, the score we have to maximize is 'Recall'.\n",
    "\n",
    "For the first case, we applied two models to estimate whether we get good performance or not with just the student attributes collected at the time of enrolment so that the University can focus on the potential drop-outs  right from the beginning of the semester. Since, we did not get satisfactory results, we concluded that first year academic performance attributes are crucial to have better results. Accordingly, we considered Case-2 wherein we included all the attributes(excluding the macro-economic data).\n",
    "\n",
    "Below is the summary of the performance of all models:\n",
    "\n",
    "\n",
    "| Model      | Accuracy | Precision | Recall | F1 | F2 |\n",
    "| :----:     |    :----:   |   :----:  |  :----:  |  :----:  |  :----:  |\n",
    "| Neural Network | 0.865964 | 0.779097 | 0.794189  | 0.786571 | 0.791124 |\n",
    "| XGBoost | 0.866717 | 0.796482 | 0.767554 | 0.781751 | 0.773171 |\n",
    "| Decision Tree |0.850904 | 0.745995 | 0.789346 | 0.767059 | 0.780278 |\n",
    "| Random Forest | 0.871235 | 0.837989 | 0.726392 | 0.778210 | 0.746269 |\n",
    "| AdaBoost | 0.852410 | 0.750577 | 0.786925 | 0.768322 | 0.779376 |\n",
    "| Gradient Boost | 0.866717 | 0.795000 | 0.769976 | 0.782288 | 0.774854 |\n",
    "| Logistic Regression | 0.857681 | 0.764151 | 0.784504 | 0.774194 | 0.780347 |\n",
    "| KNN | 0.816265 | 0.691610 | 0.738499 | 0.785714 | 0.77769 |\n",
    "\n",
    "\n",
    "Clearly, the Neural Network is performing better in both aspects of Recall and Accuracy. \n",
    "\n"
   ]
  },
  {
   "cell_type": "code",
   "execution_count": null,
   "id": "92c2c1ae-7132-4b33-9430-cfe07aaa497f",
   "metadata": {},
   "outputs": [],
   "source": []
  }
 ],
 "metadata": {
  "colab": {
   "provenance": []
  },
  "kernelspec": {
   "display_name": "Python 3 (ipykernel)",
   "language": "python",
   "name": "python3"
  },
  "language_info": {
   "codemirror_mode": {
    "name": "ipython",
    "version": 3
   },
   "file_extension": ".py",
   "mimetype": "text/x-python",
   "name": "python",
   "nbconvert_exporter": "python",
   "pygments_lexer": "ipython3",
   "version": "3.9.16"
  }
 },
 "nbformat": 4,
 "nbformat_minor": 5
}
